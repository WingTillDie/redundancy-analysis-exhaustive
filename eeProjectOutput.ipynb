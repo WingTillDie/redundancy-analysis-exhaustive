{
 "cells": [
  {
   "cell_type": "code",
   "execution_count": 1,
   "metadata": {},
   "outputs": [
    {
     "name": "stderr",
     "output_type": "stream",
     "text": [
      "D:\\ProgramData\\Anaconda3\\lib\\site-packages\\h5py\\__init__.py:36: FutureWarning: Conversion of the second argument of issubdtype from `float` to `np.floating` is deprecated. In future, it will be treated as `np.float64 == np.dtype(float).type`.\n",
      "  from ._conv import register_converters as _register_converters\n"
     ]
    }
   ],
   "source": [
    "# TensorFlow and tf.keras\n",
    "import tensorflow as tf\n",
    "from tensorflow import keras\n",
    "\n",
    "# Helper libraries\n",
    "import numpy as np\n",
    "import matplotlib.pyplot as plt\n",
    "\n"
   ]
  },
  {
   "cell_type": "code",
   "execution_count": 38,
   "metadata": {},
   "outputs": [],
   "source": [
    "#fashion_mnist = keras.datasets.mnist\n",
    "\n",
    "label=np.fromfile('label',sep=',', dtype=bool)[5:]\n",
    "points=np.fromfile('points', sep=',', dtype=np.uint16)[3:].reshape(len(label), -1)\n",
    "images=np.zeros((len(label),10,10), dtype=bool)\n",
    "for i in range(len(label)):\n",
    "        images[i, points[...,::2][i], points[...,1::2][i]]=1\n",
    "\n",
    "#(train_images, train_labels), (test_images, test_labels) = fashion_mnist.load_data()\n",
    "(train_images, train_labels), (test_images, test_labels) = (images[:60000], label[:60000]), (images[60000:70000], label[60000:70000])\n",
    "\n",
    "#TODO change val independent to test\n",
    "(val_images, val_labels)=(test_images, test_labels)\n",
    "\n",
    "#class_names = ['T-shirt/top', 'Trouser', 'Pullover', 'Dress', 'Coat', \n",
    "#               'Sandal', 'Shirt', 'Sneaker', 'Bag', 'Ankle boot']\n",
    "class_names = ['Not repairable', 'Repairable']"
   ]
  },
  {
   "cell_type": "code",
   "execution_count": 277,
   "metadata": {},
   "outputs": [
    {
     "name": "stdout",
     "output_type": "stream",
     "text": [
      "Train on 60000 samples, validate on 10000 samples\n",
      "Epoch 1/200\n",
      "60000/60000 [==============================] - 7s 114us/step - loss: 0.6345 - acc: 0.6671 - val_loss: 0.6298 - val_acc: 0.6665\n",
      "Epoch 2/200\n",
      "60000/60000 [==============================] - 1s 9us/step - loss: 0.6154 - acc: 0.6718 - val_loss: 0.6108 - val_acc: 0.6675\n",
      "Epoch 3/200\n",
      "60000/60000 [==============================] - 1s 12us/step - loss: 0.5829 - acc: 0.6823 - val_loss: 0.5715 - val_acc: 0.6877\n",
      "Epoch 4/200\n",
      "60000/60000 [==============================] - 0s 8us/step - loss: 0.5308 - acc: 0.7356 - val_loss: 0.5214 - val_acc: 0.7440\n",
      "Epoch 5/200\n",
      "60000/60000 [==============================] - 1s 9us/step - loss: 0.4758 - acc: 0.7908 - val_loss: 0.4767 - val_acc: 0.7932\n",
      "Epoch 6/200\n",
      "60000/60000 [==============================] - 1s 9us/step - loss: 0.4311 - acc: 0.8215 - val_loss: 0.4446 - val_acc: 0.8065\n",
      "Epoch 7/200\n",
      "60000/60000 [==============================] - 1s 10us/step - loss: 0.3951 - acc: 0.8417 - val_loss: 0.4181 - val_acc: 0.8211\n",
      "Epoch 8/200\n",
      "60000/60000 [==============================] - 1s 10us/step - loss: 0.3670 - acc: 0.8542 - val_loss: 0.3987 - val_acc: 0.8237\n",
      "Epoch 9/200\n",
      "60000/60000 [==============================] - 1s 10us/step - loss: 0.3446 - acc: 0.8627 - val_loss: 0.3826 - val_acc: 0.8277\n",
      "Epoch 10/200\n",
      "60000/60000 [==============================] - 1s 9us/step - loss: 0.3253 - acc: 0.8695 - val_loss: 0.3692 - val_acc: 0.8368\n",
      "Epoch 11/200\n",
      "60000/60000 [==============================] - 1s 12us/step - loss: 0.3096 - acc: 0.8756 - val_loss: 0.3560 - val_acc: 0.8384\n",
      "Epoch 12/200\n",
      "60000/60000 [==============================] - 1s 12us/step - loss: 0.2960 - acc: 0.8803 - val_loss: 0.3527 - val_acc: 0.8380\n",
      "Epoch 13/200\n",
      "60000/60000 [==============================] - 1s 10us/step - loss: 0.2856 - acc: 0.8833 - val_loss: 0.3417 - val_acc: 0.8440\n",
      "Epoch 14/200\n",
      "60000/60000 [==============================] - 1s 10us/step - loss: 0.2753 - acc: 0.8873 - val_loss: 0.3375 - val_acc: 0.8430\n",
      "Epoch 15/200\n",
      "60000/60000 [==============================] - 1s 9us/step - loss: 0.2669 - acc: 0.8906 - val_loss: 0.3343 - val_acc: 0.8450\n",
      "Epoch 16/200\n",
      "60000/60000 [==============================] - 1s 10us/step - loss: 0.2589 - acc: 0.8935 - val_loss: 0.3330 - val_acc: 0.8434\n",
      "Epoch 17/200\n",
      "60000/60000 [==============================] - 1s 9us/step - loss: 0.2528 - acc: 0.8954 - val_loss: 0.3270 - val_acc: 0.8476\n",
      "Epoch 18/200\n",
      "60000/60000 [==============================] - 1s 9us/step - loss: 0.2471 - acc: 0.8977 - val_loss: 0.3259 - val_acc: 0.8485\n",
      "Epoch 19/200\n",
      "60000/60000 [==============================] - 1s 9us/step - loss: 0.2415 - acc: 0.8996 - val_loss: 0.3233 - val_acc: 0.8487\n",
      "Epoch 20/200\n",
      "60000/60000 [==============================] - 1s 9us/step - loss: 0.2364 - acc: 0.9018 - val_loss: 0.3231 - val_acc: 0.8492\n",
      "Epoch 21/200\n",
      "60000/60000 [==============================] - 1s 9us/step - loss: 0.2320 - acc: 0.9036 - val_loss: 0.3185 - val_acc: 0.8482\n",
      "Epoch 22/200\n",
      "60000/60000 [==============================] - 1s 8us/step - loss: 0.2281 - acc: 0.9045 - val_loss: 0.3188 - val_acc: 0.8488\n",
      "Epoch 23/200\n",
      "60000/60000 [==============================] - 1s 9us/step - loss: 0.2244 - acc: 0.9061 - val_loss: 0.3204 - val_acc: 0.8448\n",
      "Epoch 24/200\n",
      "60000/60000 [==============================] - 1s 9us/step - loss: 0.2215 - acc: 0.9066 - val_loss: 0.3186 - val_acc: 0.8506\n",
      "Epoch 25/200\n",
      "60000/60000 [==============================] - 1s 10us/step - loss: 0.2171 - acc: 0.9098 - val_loss: 0.3178 - val_acc: 0.8483\n",
      "Epoch 26/200\n",
      "60000/60000 [==============================] - 1s 9us/step - loss: 0.2140 - acc: 0.9111 - val_loss: 0.3190 - val_acc: 0.8486\n",
      "Epoch 27/200\n",
      "60000/60000 [==============================] - 1s 10us/step - loss: 0.2121 - acc: 0.9112 - val_loss: 0.3181 - val_acc: 0.8503\n",
      "Epoch 28/200\n",
      "60000/60000 [==============================] - 1s 9us/step - loss: 0.2081 - acc: 0.9132 - val_loss: 0.3226 - val_acc: 0.8488\n",
      "Epoch 29/200\n",
      "60000/60000 [==============================] - 1s 9us/step - loss: 0.2064 - acc: 0.9136 - val_loss: 0.3192 - val_acc: 0.8516\n",
      "Epoch 30/200\n",
      "60000/60000 [==============================] - 1s 9us/step - loss: 0.2039 - acc: 0.9145 - val_loss: 0.3196 - val_acc: 0.8518\n",
      "Epoch 31/200\n",
      "60000/60000 [==============================] - 1s 9us/step - loss: 0.2007 - acc: 0.9168 - val_loss: 0.3178 - val_acc: 0.8507\n",
      "Epoch 32/200\n",
      "60000/60000 [==============================] - 1s 9us/step - loss: 0.1992 - acc: 0.9164 - val_loss: 0.3237 - val_acc: 0.8472\n",
      "Epoch 33/200\n",
      "60000/60000 [==============================] - 1s 11us/step - loss: 0.1968 - acc: 0.9179 - val_loss: 0.3209 - val_acc: 0.8489\n",
      "Epoch 34/200\n",
      "60000/60000 [==============================] - 1s 11us/step - loss: 0.1946 - acc: 0.9196 - val_loss: 0.3208 - val_acc: 0.8496\n",
      "Epoch 35/200\n",
      "60000/60000 [==============================] - 1s 11us/step - loss: 0.1931 - acc: 0.9195 - val_loss: 0.3211 - val_acc: 0.8500\n",
      "Epoch 36/200\n",
      "60000/60000 [==============================] - 1s 10us/step - loss: 0.1904 - acc: 0.9209 - val_loss: 0.3232 - val_acc: 0.8478\n",
      "Epoch 37/200\n",
      "60000/60000 [==============================] - 1s 11us/step - loss: 0.1884 - acc: 0.9217 - val_loss: 0.3238 - val_acc: 0.8493\n",
      "Epoch 38/200\n",
      "60000/60000 [==============================] - 1s 10us/step - loss: 0.1870 - acc: 0.9226 - val_loss: 0.3235 - val_acc: 0.8494\n",
      "Epoch 39/200\n",
      "60000/60000 [==============================] - 1s 10us/step - loss: 0.1847 - acc: 0.9236 - val_loss: 0.3271 - val_acc: 0.8487\n",
      "Epoch 40/200\n",
      "60000/60000 [==============================] - 1s 10us/step - loss: 0.1835 - acc: 0.9234 - val_loss: 0.3273 - val_acc: 0.8474\n",
      "Epoch 41/200\n",
      "60000/60000 [==============================] - 1s 9us/step - loss: 0.1816 - acc: 0.9239 - val_loss: 0.3263 - val_acc: 0.8502\n",
      "Epoch 42/200\n",
      "60000/60000 [==============================] - 1s 9us/step - loss: 0.1801 - acc: 0.9257 - val_loss: 0.3284 - val_acc: 0.8490\n",
      "Epoch 43/200\n",
      "60000/60000 [==============================] - 1s 8us/step - loss: 0.1787 - acc: 0.9255 - val_loss: 0.3282 - val_acc: 0.8509\n",
      "Epoch 44/200\n",
      "60000/60000 [==============================] - 1s 8us/step - loss: 0.1772 - acc: 0.9270 - val_loss: 0.3299 - val_acc: 0.8516\n",
      "Epoch 45/200\n",
      "60000/60000 [==============================] - 1s 9us/step - loss: 0.1755 - acc: 0.9276 - val_loss: 0.3282 - val_acc: 0.8525\n",
      "Epoch 46/200\n",
      "60000/60000 [==============================] - 1s 9us/step - loss: 0.1743 - acc: 0.9274 - val_loss: 0.3348 - val_acc: 0.8471\n",
      "Epoch 47/200\n",
      "60000/60000 [==============================] - 1s 9us/step - loss: 0.1725 - acc: 0.9288 - val_loss: 0.3355 - val_acc: 0.8479\n",
      "Epoch 48/200\n",
      "60000/60000 [==============================] - 1s 10us/step - loss: 0.1714 - acc: 0.9293 - val_loss: 0.3355 - val_acc: 0.8495\n",
      "Epoch 49/200\n",
      "60000/60000 [==============================] - 1s 9us/step - loss: 0.1699 - acc: 0.9302 - val_loss: 0.3363 - val_acc: 0.8498\n",
      "Epoch 50/200\n",
      "60000/60000 [==============================] - 1s 11us/step - loss: 0.1690 - acc: 0.9298 - val_loss: 0.3393 - val_acc: 0.8501\n",
      "Epoch 51/200\n",
      "60000/60000 [==============================] - 1s 11us/step - loss: 0.1672 - acc: 0.9307 - val_loss: 0.3417 - val_acc: 0.8464\n",
      "Epoch 52/200\n",
      "60000/60000 [==============================] - 1s 10us/step - loss: 0.1666 - acc: 0.9313 - val_loss: 0.3390 - val_acc: 0.8505\n",
      "Epoch 53/200\n",
      "60000/60000 [==============================] - 1s 11us/step - loss: 0.1645 - acc: 0.9314 - val_loss: 0.3398 - val_acc: 0.8486\n",
      "Epoch 54/200\n",
      "60000/60000 [==============================] - 1s 13us/step - loss: 0.1639 - acc: 0.9323 - val_loss: 0.3413 - val_acc: 0.8491\n",
      "Epoch 55/200\n",
      "60000/60000 [==============================] - 1s 9us/step - loss: 0.1629 - acc: 0.9332 - val_loss: 0.3416 - val_acc: 0.8485\n",
      "Epoch 56/200\n",
      "60000/60000 [==============================] - 1s 12us/step - loss: 0.1612 - acc: 0.9347 - val_loss: 0.3459 - val_acc: 0.8466\n",
      "Epoch 57/200\n",
      "60000/60000 [==============================] - 1s 9us/step - loss: 0.1605 - acc: 0.9346 - val_loss: 0.3466 - val_acc: 0.8480\n",
      "Epoch 58/200\n",
      "60000/60000 [==============================] - 1s 9us/step - loss: 0.1594 - acc: 0.9346 - val_loss: 0.3466 - val_acc: 0.8483\n",
      "Epoch 59/200\n",
      "60000/60000 [==============================] - 1s 9us/step - loss: 0.1582 - acc: 0.9353 - val_loss: 0.3470 - val_acc: 0.8488\n"
     ]
    },
    {
     "name": "stdout",
     "output_type": "stream",
     "text": [
      "Epoch 60/200\n",
      "60000/60000 [==============================] - 1s 10us/step - loss: 0.1568 - acc: 0.9353 - val_loss: 0.3481 - val_acc: 0.8479\n",
      "Epoch 61/200\n",
      "60000/60000 [==============================] - 1s 10us/step - loss: 0.1562 - acc: 0.9365 - val_loss: 0.3499 - val_acc: 0.8490\n",
      "Epoch 62/200\n",
      "60000/60000 [==============================] - 1s 10us/step - loss: 0.1550 - acc: 0.9380 - val_loss: 0.3502 - val_acc: 0.8484\n",
      "Epoch 63/200\n",
      "60000/60000 [==============================] - 1s 9us/step - loss: 0.1541 - acc: 0.9377 - val_loss: 0.3519 - val_acc: 0.8498\n",
      "Epoch 64/200\n",
      "60000/60000 [==============================] - 0s 8us/step - loss: 0.1530 - acc: 0.9376 - val_loss: 0.3516 - val_acc: 0.8499\n",
      "Epoch 65/200\n",
      "60000/60000 [==============================] - 1s 9us/step - loss: 0.1524 - acc: 0.9378 - val_loss: 0.3553 - val_acc: 0.8493\n",
      "Epoch 66/200\n",
      "60000/60000 [==============================] - 1s 11us/step - loss: 0.1510 - acc: 0.9388 - val_loss: 0.3533 - val_acc: 0.8511\n",
      "Epoch 67/200\n",
      "60000/60000 [==============================] - 1s 10us/step - loss: 0.1499 - acc: 0.9395 - val_loss: 0.3582 - val_acc: 0.8484\n",
      "Epoch 68/200\n",
      "60000/60000 [==============================] - 1s 9us/step - loss: 0.1493 - acc: 0.9383 - val_loss: 0.3570 - val_acc: 0.8485\n",
      "Epoch 69/200\n",
      "60000/60000 [==============================] - 1s 12us/step - loss: 0.1482 - acc: 0.9396 - val_loss: 0.3570 - val_acc: 0.8494\n",
      "Epoch 70/200\n",
      "60000/60000 [==============================] - 1s 9us/step - loss: 0.1470 - acc: 0.9409 - val_loss: 0.3579 - val_acc: 0.8480\n",
      "Epoch 71/200\n",
      "60000/60000 [==============================] - 1s 8us/step - loss: 0.1468 - acc: 0.9408 - val_loss: 0.3612 - val_acc: 0.8476\n",
      "Epoch 72/200\n",
      "60000/60000 [==============================] - 0s 8us/step - loss: 0.1457 - acc: 0.9416 - val_loss: 0.3594 - val_acc: 0.8505\n",
      "Epoch 73/200\n",
      "60000/60000 [==============================] - 1s 8us/step - loss: 0.1452 - acc: 0.9405 - val_loss: 0.3637 - val_acc: 0.8476\n",
      "Epoch 74/200\n",
      "60000/60000 [==============================] - 1s 9us/step - loss: 0.1440 - acc: 0.9420 - val_loss: 0.3685 - val_acc: 0.8489\n",
      "Epoch 75/200\n",
      "60000/60000 [==============================] - 1s 8us/step - loss: 0.1432 - acc: 0.9427 - val_loss: 0.3645 - val_acc: 0.8508\n",
      "Epoch 76/200\n",
      "60000/60000 [==============================] - 1s 8us/step - loss: 0.1425 - acc: 0.9437 - val_loss: 0.3670 - val_acc: 0.8465\n",
      "Epoch 77/200\n",
      "60000/60000 [==============================] - 1s 10us/step - loss: 0.1428 - acc: 0.9415 - val_loss: 0.3680 - val_acc: 0.8450\n",
      "Epoch 78/200\n",
      "60000/60000 [==============================] - 1s 9us/step - loss: 0.1410 - acc: 0.9435 - val_loss: 0.3683 - val_acc: 0.8491\n",
      "Epoch 79/200\n",
      "60000/60000 [==============================] - 1s 11us/step - loss: 0.1400 - acc: 0.9447 - val_loss: 0.3707 - val_acc: 0.8488\n",
      "Epoch 80/200\n",
      "60000/60000 [==============================] - 0s 8us/step - loss: 0.1390 - acc: 0.9438 - val_loss: 0.3720 - val_acc: 0.8469\n",
      "Epoch 81/200\n",
      "60000/60000 [==============================] - 0s 8us/step - loss: 0.1388 - acc: 0.9441 - val_loss: 0.3720 - val_acc: 0.8490\n",
      "Epoch 82/200\n",
      "60000/60000 [==============================] - 0s 8us/step - loss: 0.1384 - acc: 0.9448 - val_loss: 0.3731 - val_acc: 0.8474\n",
      "Epoch 83/200\n",
      "60000/60000 [==============================] - 0s 8us/step - loss: 0.1370 - acc: 0.9454 - val_loss: 0.3720 - val_acc: 0.8494\n",
      "Epoch 84/200\n",
      "60000/60000 [==============================] - 0s 8us/step - loss: 0.1369 - acc: 0.9451 - val_loss: 0.3765 - val_acc: 0.8476\n",
      "Epoch 85/200\n",
      "60000/60000 [==============================] - 1s 10us/step - loss: 0.1354 - acc: 0.9461 - val_loss: 0.3781 - val_acc: 0.8506\n",
      "Epoch 86/200\n",
      "60000/60000 [==============================] - 1s 12us/step - loss: 0.1348 - acc: 0.9466 - val_loss: 0.3772 - val_acc: 0.8481\n",
      "Epoch 87/200\n",
      "60000/60000 [==============================] - 1s 10us/step - loss: 0.1347 - acc: 0.9457 - val_loss: 0.3791 - val_acc: 0.8469\n",
      "Epoch 88/200\n",
      "60000/60000 [==============================] - 0s 8us/step - loss: 0.1331 - acc: 0.9468 - val_loss: 0.3807 - val_acc: 0.8468\n",
      "Epoch 89/200\n",
      "60000/60000 [==============================] - 1s 10us/step - loss: 0.1328 - acc: 0.9480 - val_loss: 0.3819 - val_acc: 0.8484\n",
      "Epoch 90/200\n",
      "60000/60000 [==============================] - 1s 9us/step - loss: 0.1318 - acc: 0.9479 - val_loss: 0.3847 - val_acc: 0.8476\n",
      "Epoch 91/200\n",
      "60000/60000 [==============================] - 1s 12us/step - loss: 0.1313 - acc: 0.9476 - val_loss: 0.3856 - val_acc: 0.8474\n",
      "Epoch 92/200\n",
      "60000/60000 [==============================] - 1s 9us/step - loss: 0.1309 - acc: 0.9484 - val_loss: 0.3854 - val_acc: 0.8503\n",
      "Epoch 93/200\n",
      "60000/60000 [==============================] - 1s 9us/step - loss: 0.1305 - acc: 0.9480 - val_loss: 0.3853 - val_acc: 0.8507\n",
      "Epoch 94/200\n",
      "60000/60000 [==============================] - 1s 9us/step - loss: 0.1298 - acc: 0.9475 - val_loss: 0.3876 - val_acc: 0.8492\n",
      "Epoch 95/200\n",
      "60000/60000 [==============================] - 1s 9us/step - loss: 0.1294 - acc: 0.9491 - val_loss: 0.3860 - val_acc: 0.8494\n",
      "Epoch 96/200\n",
      "60000/60000 [==============================] - 1s 9us/step - loss: 0.1288 - acc: 0.9488 - val_loss: 0.3887 - val_acc: 0.8487\n",
      "Epoch 97/200\n",
      "60000/60000 [==============================] - 1s 11us/step - loss: 0.1277 - acc: 0.9498 - val_loss: 0.3874 - val_acc: 0.8490\n",
      "Epoch 98/200\n",
      "60000/60000 [==============================] - 0s 8us/step - loss: 0.1270 - acc: 0.9502 - val_loss: 0.3923 - val_acc: 0.8520\n",
      "Epoch 99/200\n",
      "60000/60000 [==============================] - 0s 8us/step - loss: 0.1261 - acc: 0.9508 - val_loss: 0.3945 - val_acc: 0.8506\n",
      "Epoch 100/200\n",
      "60000/60000 [==============================] - 0s 8us/step - loss: 0.1257 - acc: 0.9508 - val_loss: 0.4002 - val_acc: 0.8502\n",
      "Epoch 101/200\n",
      "60000/60000 [==============================] - 1s 9us/step - loss: 0.1258 - acc: 0.9506 - val_loss: 0.3945 - val_acc: 0.8503\n",
      "Epoch 102/200\n",
      "60000/60000 [==============================] - 1s 9us/step - loss: 0.1248 - acc: 0.9508 - val_loss: 0.3960 - val_acc: 0.8487\n",
      "Epoch 103/200\n",
      "60000/60000 [==============================] - 1s 9us/step - loss: 0.1242 - acc: 0.9512 - val_loss: 0.3965 - val_acc: 0.8501\n",
      "Epoch 104/200\n",
      "60000/60000 [==============================] - 0s 8us/step - loss: 0.1237 - acc: 0.9514 - val_loss: 0.4009 - val_acc: 0.8501\n",
      "Epoch 105/200\n",
      "60000/60000 [==============================] - 1s 10us/step - loss: 0.1226 - acc: 0.9526 - val_loss: 0.3983 - val_acc: 0.8489\n",
      "Epoch 106/200\n",
      "60000/60000 [==============================] - 0s 8us/step - loss: 0.1227 - acc: 0.9520 - val_loss: 0.4030 - val_acc: 0.8504\n",
      "Epoch 107/200\n",
      "60000/60000 [==============================] - 0s 8us/step - loss: 0.1213 - acc: 0.9530 - val_loss: 0.4060 - val_acc: 0.8478\n",
      "Epoch 108/200\n",
      "60000/60000 [==============================] - 0s 7us/step - loss: 0.1219 - acc: 0.9529 - val_loss: 0.4072 - val_acc: 0.8486\n",
      "Epoch 109/200\n",
      "60000/60000 [==============================] - 0s 8us/step - loss: 0.1213 - acc: 0.9525 - val_loss: 0.4044 - val_acc: 0.8458\n",
      "Epoch 110/200\n",
      "60000/60000 [==============================] - 0s 7us/step - loss: 0.1201 - acc: 0.9539 - val_loss: 0.4051 - val_acc: 0.8503\n",
      "Epoch 111/200\n",
      "60000/60000 [==============================] - 0s 7us/step - loss: 0.1200 - acc: 0.9541 - val_loss: 0.4048 - val_acc: 0.8477\n",
      "Epoch 112/200\n",
      "60000/60000 [==============================] - 0s 7us/step - loss: 0.1186 - acc: 0.9545 - val_loss: 0.4076 - val_acc: 0.8506\n",
      "Epoch 113/200\n",
      "60000/60000 [==============================] - 0s 8us/step - loss: 0.1183 - acc: 0.9540 - val_loss: 0.4071 - val_acc: 0.8476\n",
      "Epoch 114/200\n",
      "60000/60000 [==============================] - 0s 8us/step - loss: 0.1179 - acc: 0.9548 - val_loss: 0.4093 - val_acc: 0.8501\n",
      "Epoch 115/200\n",
      "60000/60000 [==============================] - 0s 7us/step - loss: 0.1180 - acc: 0.9541 - val_loss: 0.4119 - val_acc: 0.8520\n",
      "Epoch 116/200\n",
      "60000/60000 [==============================] - 1s 8us/step - loss: 0.1166 - acc: 0.9550 - val_loss: 0.4122 - val_acc: 0.8493\n",
      "Epoch 117/200\n",
      "60000/60000 [==============================] - 0s 8us/step - loss: 0.1169 - acc: 0.9548 - val_loss: 0.4128 - val_acc: 0.8481\n",
      "Epoch 118/200\n",
      "60000/60000 [==============================] - 1s 9us/step - loss: 0.1156 - acc: 0.9553 - val_loss: 0.4146 - val_acc: 0.8471\n",
      "Epoch 119/200\n"
     ]
    },
    {
     "name": "stdout",
     "output_type": "stream",
     "text": [
      "60000/60000 [==============================] - 0s 7us/step - loss: 0.1160 - acc: 0.9556 - val_loss: 0.4176 - val_acc: 0.8466\n",
      "Epoch 120/200\n",
      "60000/60000 [==============================] - 0s 8us/step - loss: 0.1150 - acc: 0.9560 - val_loss: 0.4177 - val_acc: 0.8463\n",
      "Epoch 121/200\n",
      "60000/60000 [==============================] - 0s 8us/step - loss: 0.1147 - acc: 0.9558 - val_loss: 0.4170 - val_acc: 0.8507\n",
      "Epoch 122/200\n",
      "60000/60000 [==============================] - 1s 9us/step - loss: 0.1139 - acc: 0.9559 - val_loss: 0.4178 - val_acc: 0.8483\n",
      "Epoch 123/200\n",
      "60000/60000 [==============================] - 0s 8us/step - loss: 0.1134 - acc: 0.9561 - val_loss: 0.4179 - val_acc: 0.8490\n",
      "Epoch 124/200\n",
      "60000/60000 [==============================] - 0s 8us/step - loss: 0.1139 - acc: 0.9569 - val_loss: 0.4227 - val_acc: 0.8488\n",
      "Epoch 125/200\n",
      "60000/60000 [==============================] - 1s 9us/step - loss: 0.1129 - acc: 0.9566 - val_loss: 0.4186 - val_acc: 0.8512\n",
      "Epoch 126/200\n",
      "60000/60000 [==============================] - 1s 9us/step - loss: 0.1119 - acc: 0.9571 - val_loss: 0.4207 - val_acc: 0.8476\n",
      "Epoch 127/200\n",
      "60000/60000 [==============================] - 0s 8us/step - loss: 0.1122 - acc: 0.9574 - val_loss: 0.4232 - val_acc: 0.8498\n",
      "Epoch 128/200\n",
      "60000/60000 [==============================] - 0s 8us/step - loss: 0.1106 - acc: 0.9574 - val_loss: 0.4255 - val_acc: 0.8512\n",
      "Epoch 129/200\n",
      "60000/60000 [==============================] - 0s 7us/step - loss: 0.1099 - acc: 0.9582 - val_loss: 0.4278 - val_acc: 0.8508\n",
      "Epoch 130/200\n",
      "60000/60000 [==============================] - 0s 8us/step - loss: 0.1103 - acc: 0.9577 - val_loss: 0.4267 - val_acc: 0.8495\n",
      "Epoch 131/200\n",
      "60000/60000 [==============================] - 0s 7us/step - loss: 0.1095 - acc: 0.9585 - val_loss: 0.4282 - val_acc: 0.8473\n",
      "Epoch 132/200\n",
      "60000/60000 [==============================] - 0s 8us/step - loss: 0.1094 - acc: 0.9584 - val_loss: 0.4298 - val_acc: 0.8478\n",
      "Epoch 133/200\n",
      "60000/60000 [==============================] - 0s 7us/step - loss: 0.1092 - acc: 0.9585 - val_loss: 0.4362 - val_acc: 0.8500\n",
      "Epoch 134/200\n",
      "60000/60000 [==============================] - 1s 11us/step - loss: 0.1088 - acc: 0.9585 - val_loss: 0.4327 - val_acc: 0.8515\n",
      "Epoch 135/200\n",
      "60000/60000 [==============================] - 0s 8us/step - loss: 0.1082 - acc: 0.9587 - val_loss: 0.4365 - val_acc: 0.8477\n",
      "Epoch 136/200\n",
      "60000/60000 [==============================] - 1s 9us/step - loss: 0.1073 - acc: 0.9603 - val_loss: 0.4379 - val_acc: 0.8496\n",
      "Epoch 137/200\n",
      "60000/60000 [==============================] - 1s 10us/step - loss: 0.1079 - acc: 0.9580 - val_loss: 0.4387 - val_acc: 0.8458\n",
      "Epoch 138/200\n",
      "60000/60000 [==============================] - 0s 8us/step - loss: 0.1072 - acc: 0.9591 - val_loss: 0.4372 - val_acc: 0.8500\n",
      "Epoch 139/200\n",
      "60000/60000 [==============================] - 0s 8us/step - loss: 0.1064 - acc: 0.9600 - val_loss: 0.4357 - val_acc: 0.8483\n",
      "Epoch 140/200\n",
      "60000/60000 [==============================] - 0s 8us/step - loss: 0.1062 - acc: 0.9596 - val_loss: 0.4436 - val_acc: 0.8463\n",
      "Epoch 141/200\n",
      "60000/60000 [==============================] - 1s 9us/step - loss: 0.1058 - acc: 0.9595 - val_loss: 0.4427 - val_acc: 0.8494\n",
      "Epoch 142/200\n",
      "60000/60000 [==============================] - 0s 7us/step - loss: 0.1051 - acc: 0.9601 - val_loss: 0.4399 - val_acc: 0.8502\n",
      "Epoch 143/200\n",
      "60000/60000 [==============================] - 1s 9us/step - loss: 0.1047 - acc: 0.9608 - val_loss: 0.4460 - val_acc: 0.8470\n",
      "Epoch 144/200\n",
      "60000/60000 [==============================] - 1s 9us/step - loss: 0.1043 - acc: 0.9604 - val_loss: 0.4457 - val_acc: 0.8490\n",
      "Epoch 145/200\n",
      "60000/60000 [==============================] - 1s 9us/step - loss: 0.1040 - acc: 0.9607 - val_loss: 0.4447 - val_acc: 0.8482\n",
      "Epoch 146/200\n",
      "60000/60000 [==============================] - 0s 8us/step - loss: 0.1040 - acc: 0.9608 - val_loss: 0.4473 - val_acc: 0.8502\n",
      "Epoch 147/200\n",
      "60000/60000 [==============================] - 1s 13us/step - loss: 0.1026 - acc: 0.9617 - val_loss: 0.4506 - val_acc: 0.8508\n",
      "Epoch 148/200\n",
      "60000/60000 [==============================] - 1s 13us/step - loss: 0.1028 - acc: 0.9616 - val_loss: 0.4511 - val_acc: 0.8504\n",
      "Epoch 149/200\n",
      "60000/60000 [==============================] - 1s 11us/step - loss: 0.1024 - acc: 0.9616 - val_loss: 0.4517 - val_acc: 0.8513\n",
      "Epoch 150/200\n",
      "60000/60000 [==============================] - 0s 8us/step - loss: 0.1016 - acc: 0.9623 - val_loss: 0.4511 - val_acc: 0.8490\n",
      "Epoch 151/200\n",
      "60000/60000 [==============================] - 1s 8us/step - loss: 0.1005 - acc: 0.9626 - val_loss: 0.4526 - val_acc: 0.8524\n",
      "Epoch 152/200\n",
      "60000/60000 [==============================] - 1s 11us/step - loss: 0.1009 - acc: 0.9625 - val_loss: 0.4579 - val_acc: 0.8490\n",
      "Epoch 153/200\n",
      "60000/60000 [==============================] - 1s 13us/step - loss: 0.1007 - acc: 0.9629 - val_loss: 0.4585 - val_acc: 0.8489\n",
      "Epoch 154/200\n",
      "60000/60000 [==============================] - 1s 9us/step - loss: 0.1010 - acc: 0.9619 - val_loss: 0.4563 - val_acc: 0.8510\n",
      "Epoch 155/200\n",
      "60000/60000 [==============================] - 1s 10us/step - loss: 0.1002 - acc: 0.9624 - val_loss: 0.4587 - val_acc: 0.8501\n",
      "Epoch 156/200\n",
      "60000/60000 [==============================] - 1s 10us/step - loss: 0.0994 - acc: 0.9634 - val_loss: 0.4618 - val_acc: 0.8487\n",
      "Epoch 157/200\n",
      "60000/60000 [==============================] - 1s 12us/step - loss: 0.0988 - acc: 0.9633 - val_loss: 0.4605 - val_acc: 0.8488\n",
      "Epoch 158/200\n",
      "60000/60000 [==============================] - 1s 8us/step - loss: 0.0983 - acc: 0.9640 - val_loss: 0.4616 - val_acc: 0.8505\n",
      "Epoch 159/200\n",
      "60000/60000 [==============================] - 0s 8us/step - loss: 0.0987 - acc: 0.9629 - val_loss: 0.4673 - val_acc: 0.8500\n",
      "Epoch 160/200\n",
      "60000/60000 [==============================] - 1s 10us/step - loss: 0.0976 - acc: 0.9646 - val_loss: 0.4615 - val_acc: 0.8510\n",
      "Epoch 161/200\n",
      "60000/60000 [==============================] - 1s 10us/step - loss: 0.0969 - acc: 0.9651 - val_loss: 0.4680 - val_acc: 0.8495\n",
      "Epoch 162/200\n",
      "60000/60000 [==============================] - 0s 8us/step - loss: 0.0977 - acc: 0.9633 - val_loss: 0.4690 - val_acc: 0.8475\n",
      "Epoch 163/200\n",
      "60000/60000 [==============================] - 0s 8us/step - loss: 0.0963 - acc: 0.9649 - val_loss: 0.4708 - val_acc: 0.8479\n",
      "Epoch 164/200\n",
      "60000/60000 [==============================] - 1s 8us/step - loss: 0.0968 - acc: 0.9642 - val_loss: 0.4706 - val_acc: 0.8460\n",
      "Epoch 165/200\n",
      "60000/60000 [==============================] - 0s 8us/step - loss: 0.0963 - acc: 0.9646 - val_loss: 0.4742 - val_acc: 0.8501\n",
      "Epoch 166/200\n",
      "60000/60000 [==============================] - 0s 8us/step - loss: 0.0955 - acc: 0.9652 - val_loss: 0.4705 - val_acc: 0.8479\n",
      "Epoch 167/200\n",
      "60000/60000 [==============================] - 0s 8us/step - loss: 0.0949 - acc: 0.9654 - val_loss: 0.4736 - val_acc: 0.8501\n",
      "Epoch 168/200\n",
      "60000/60000 [==============================] - 1s 9us/step - loss: 0.0950 - acc: 0.9656 - val_loss: 0.4745 - val_acc: 0.8511\n",
      "Epoch 169/200\n",
      "60000/60000 [==============================] - 0s 8us/step - loss: 0.0942 - acc: 0.9654 - val_loss: 0.4742 - val_acc: 0.8503\n",
      "Epoch 170/200\n",
      "60000/60000 [==============================] - 1s 9us/step - loss: 0.0946 - acc: 0.9649 - val_loss: 0.4742 - val_acc: 0.8512\n",
      "Epoch 171/200\n",
      "60000/60000 [==============================] - 1s 9us/step - loss: 0.0940 - acc: 0.9664 - val_loss: 0.4785 - val_acc: 0.8500\n",
      "Epoch 172/200\n",
      "60000/60000 [==============================] - 1s 9us/step - loss: 0.0942 - acc: 0.9653 - val_loss: 0.4805 - val_acc: 0.8513\n",
      "Epoch 173/200\n",
      "60000/60000 [==============================] - 1s 9us/step - loss: 0.0931 - acc: 0.9665 - val_loss: 0.4861 - val_acc: 0.8486\n",
      "Epoch 174/200\n",
      "60000/60000 [==============================] - 1s 9us/step - loss: 0.0929 - acc: 0.9659 - val_loss: 0.4808 - val_acc: 0.8503\n",
      "Epoch 175/200\n",
      "60000/60000 [==============================] - 1s 9us/step - loss: 0.0927 - acc: 0.9668 - val_loss: 0.4822 - val_acc: 0.8479\n",
      "Epoch 176/200\n",
      "60000/60000 [==============================] - 1s 9us/step - loss: 0.0922 - acc: 0.9663 - val_loss: 0.4883 - val_acc: 0.8496\n",
      "Epoch 177/200\n",
      "60000/60000 [==============================] - 1s 8us/step - loss: 0.0921 - acc: 0.9662 - val_loss: 0.4890 - val_acc: 0.8478\n"
     ]
    },
    {
     "name": "stdout",
     "output_type": "stream",
     "text": [
      "Epoch 178/200\n",
      "60000/60000 [==============================] - 1s 11us/step - loss: 0.0917 - acc: 0.9668 - val_loss: 0.4882 - val_acc: 0.8495\n",
      "Epoch 179/200\n",
      "60000/60000 [==============================] - 0s 8us/step - loss: 0.0909 - acc: 0.9665 - val_loss: 0.4902 - val_acc: 0.8502\n",
      "Epoch 180/200\n",
      "60000/60000 [==============================] - 0s 8us/step - loss: 0.0913 - acc: 0.9669 - val_loss: 0.4919 - val_acc: 0.8502\n",
      "Epoch 181/200\n",
      "60000/60000 [==============================] - 1s 8us/step - loss: 0.0911 - acc: 0.9663 - val_loss: 0.4918 - val_acc: 0.8486\n",
      "Epoch 182/200\n",
      "60000/60000 [==============================] - 1s 12us/step - loss: 0.0909 - acc: 0.9670 - val_loss: 0.4928 - val_acc: 0.8499\n",
      "Epoch 183/200\n",
      "60000/60000 [==============================] - 1s 10us/step - loss: 0.0904 - acc: 0.9673 - val_loss: 0.4924 - val_acc: 0.8487\n",
      "Epoch 184/200\n",
      "60000/60000 [==============================] - 1s 11us/step - loss: 0.0902 - acc: 0.9671 - val_loss: 0.4970 - val_acc: 0.8491\n",
      "Epoch 185/200\n",
      "60000/60000 [==============================] - 1s 12us/step - loss: 0.0897 - acc: 0.9677 - val_loss: 0.4939 - val_acc: 0.8477\n",
      "Epoch 186/200\n",
      "60000/60000 [==============================] - 1s 11us/step - loss: 0.0886 - acc: 0.9676 - val_loss: 0.5059 - val_acc: 0.8455\n",
      "Epoch 187/200\n",
      "60000/60000 [==============================] - 1s 11us/step - loss: 0.0886 - acc: 0.9679 - val_loss: 0.4992 - val_acc: 0.8458\n",
      "Epoch 188/200\n",
      "60000/60000 [==============================] - 1s 9us/step - loss: 0.0885 - acc: 0.9684 - val_loss: 0.5020 - val_acc: 0.8478\n",
      "Epoch 189/200\n",
      "60000/60000 [==============================] - 1s 12us/step - loss: 0.0884 - acc: 0.9677 - val_loss: 0.5009 - val_acc: 0.8488\n",
      "Epoch 190/200\n",
      "60000/60000 [==============================] - 1s 10us/step - loss: 0.0875 - acc: 0.9695 - val_loss: 0.5013 - val_acc: 0.8492\n",
      "Epoch 191/200\n",
      "60000/60000 [==============================] - 1s 10us/step - loss: 0.0871 - acc: 0.9688 - val_loss: 0.5018 - val_acc: 0.8477\n",
      "Epoch 192/200\n",
      "60000/60000 [==============================] - 0s 8us/step - loss: 0.0874 - acc: 0.9685 - val_loss: 0.5055 - val_acc: 0.8476\n",
      "Epoch 193/200\n",
      "60000/60000 [==============================] - 1s 10us/step - loss: 0.0860 - acc: 0.9696 - val_loss: 0.5093 - val_acc: 0.8484\n",
      "Epoch 194/200\n",
      "60000/60000 [==============================] - 0s 7us/step - loss: 0.0868 - acc: 0.9682 - val_loss: 0.5108 - val_acc: 0.8483\n",
      "Epoch 195/200\n",
      "60000/60000 [==============================] - 1s 11us/step - loss: 0.0860 - acc: 0.9691 - val_loss: 0.5081 - val_acc: 0.8481\n",
      "Epoch 196/200\n",
      "60000/60000 [==============================] - 1s 11us/step - loss: 0.0863 - acc: 0.9692 - val_loss: 0.5137 - val_acc: 0.8442\n",
      "Epoch 197/200\n",
      "60000/60000 [==============================] - 0s 7us/step - loss: 0.0859 - acc: 0.9695 - val_loss: 0.5111 - val_acc: 0.8500\n",
      "Epoch 198/200\n",
      "60000/60000 [==============================] - 0s 8us/step - loss: 0.0852 - acc: 0.9692 - val_loss: 0.5163 - val_acc: 0.8510\n",
      "Epoch 199/200\n",
      "60000/60000 [==============================] - 0s 7us/step - loss: 0.0849 - acc: 0.9693 - val_loss: 0.5141 - val_acc: 0.8491\n",
      "Epoch 200/200\n",
      "60000/60000 [==============================] - 0s 8us/step - loss: 0.0845 - acc: 0.9696 - val_loss: 0.5223 - val_acc: 0.8494\n"
     ]
    }
   ],
   "source": [
    "model = keras.Sequential([\n",
    "    #keras.layers.Flatten(input_shape=(28, 28)),\n",
    "    keras.layers.Flatten(input_shape=(10, 10)),\n",
    "    keras.layers.Dense(128, activation=tf.nn.relu),\n",
    "    #keras.layers.Dense(10, activation=tf.nn.softmax)\n",
    "    keras.layers.Dense(2, activation=tf.nn.softmax)\n",
    "])\n",
    "model.compile(optimizer=keras.optimizers.Adam(), \n",
    "              loss='sparse_categorical_crossentropy',\n",
    "              metrics=['accuracy'])\n",
    "history=model.fit(train_images, train_labels, epochs=200, batch_size=512, validation_data=(val_images, val_labels))\n",
    "history_dict = history.history"
   ]
  },
  {
   "cell_type": "code",
   "execution_count": 271,
   "metadata": {},
   "outputs": [
    {
     "data": {
      "image/png": "[encoded data removed]",
      "text/plain": [
       "<Figure size 432x288 with 1 Axes>"
      ]
     },
     "metadata": {},
     "output_type": "display_data"
    }
   ],
   "source": [
    "acc = history.history['acc']\n",
    "val_acc = history.history['val_acc']\n",
    "loss = history.history['loss']\n",
    "val_loss = history.history['val_loss']\n",
    "\n",
    "epochs = range(1, len(acc) + 1)\n",
    "\n",
    "plt.plot(epochs, loss, 'bo-', mfc='None', label='Training loss')\n",
    "plt.plot(epochs, val_loss, 'ro-', mfc='None', label='Validation loss')\n",
    "plt.title('Training and validation loss')\n",
    "plt.xlabel('Epochs')\n",
    "plt.ylabel('Loss')\n",
    "plt.legend()\n",
    "\n",
    "plt.show()"
   ]
  },
  {
   "cell_type": "code",
   "execution_count": 278,
   "metadata": {},
   "outputs": [
    {
     "data": {
      "image/png": "[encoded data removed]",
      "text/plain": [
       "<Figure size 432x288 with 1 Axes>"
      ]
     },
     "metadata": {},
     "output_type": "display_data"
    }
   ],
   "source": [
    "acc = history.history['acc']\n",
    "val_acc = history.history['val_acc']\n",
    "loss = history.history['loss']\n",
    "val_loss = history.history['val_loss']\n",
    "\n",
    "epochs = range(1, len(acc) + 1)\n",
    "\n",
    "plt.plot(epochs, loss, 'bo-', mfc='White', label='Training loss')\n",
    "plt.plot(epochs, val_loss, 'ro-', mfc='White', label='Validation loss')\n",
    "plt.title('Training and validation loss')\n",
    "plt.xlabel('Epochs')\n",
    "plt.ylabel('Loss')\n",
    "plt.legend()\n",
    "\n",
    "plt.savefig('figs/Loss1.svg')"
   ]
  },
  {
   "cell_type": "code",
   "execution_count": 176,
   "metadata": {
    "scrolled": false
   },
   "outputs": [
    {
     "data": {
      "image/png": "[encoded data removed]",
      "text/plain": [
       "<Figure size 432x288 with 1 Axes>"
      ]
     },
     "metadata": {},
     "output_type": "display_data"
    }
   ],
   "source": [
    "acc_values = history_dict['acc']\n",
    "val_acc_values = history_dict['val_acc']\n",
    "\n",
    "plt.plot(epochs, acc, 'bo-', mfc='None', label='Training acc')\n",
    "plt.plot(epochs, val_acc, 'ro-', mfc='None', label='Validation acc')\n",
    "plt.title('Training and validation accuracy')\n",
    "plt.xlabel('Epochs')\n",
    "plt.ylabel('Accuracy')\n",
    "plt.legend()\n",
    "\n",
    "plt.show()"
   ]
  },
  {
   "cell_type": "code",
   "execution_count": 279,
   "metadata": {},
   "outputs": [
    {
     "data": {
      "image/png": "[encoded data removed]",
      "text/plain": [
       "<Figure size 432x288 with 1 Axes>"
      ]
     },
     "metadata": {},
     "output_type": "display_data"
    }
   ],
   "source": [
    "acc_values = history_dict['acc']\n",
    "val_acc_values = history_dict['val_acc']\n",
    "\n",
    "plt.plot(epochs, acc, 'bo-', mfc='White', label='Training acc')\n",
    "plt.plot(epochs, val_acc, 'ro-', mfc='White', label='Validation acc')\n",
    "plt.title('Training and validation accuracy')\n",
    "plt.xlabel('Epochs')\n",
    "plt.ylabel('Accuracy')\n",
    "plt.legend()\n",
    "\n",
    "plt.savefig('figs/Acc1.svg')"
   ]
  },
  {
   "cell_type": "code",
   "execution_count": 132,
   "metadata": {},
   "outputs": [
    {
     "name": "stdout",
     "output_type": "stream",
     "text": [
      "_________________________________________________________________\n",
      "Layer (type)                 Output Shape              Param #   \n",
      "=================================================================\n",
      "flatten_28 (Flatten)         (None, 100)               0         \n",
      "_________________________________________________________________\n",
      "dense_56 (Dense)             (None, 128)               12928     \n",
      "_________________________________________________________________\n",
      "dense_57 (Dense)             (None, 2)                 258       \n",
      "=================================================================\n",
      "Total params: 13,186\n",
      "Trainable params: 13,186\n",
      "Non-trainable params: 0\n",
      "_________________________________________________________________\n"
     ]
    }
   ],
   "source": [
    "model.summary()"
   ]
  },
  {
   "cell_type": "code",
   "execution_count": 178,
   "metadata": {},
   "outputs": [],
   "source": [
    "#model.save_weights('checkpoints/overfitting')"
   ]
  },
  {
   "cell_type": "code",
   "execution_count": 177,
   "metadata": {},
   "outputs": [],
   "source": [
    "#model.save('overfitting.h5')"
   ]
  },
  {
   "cell_type": "code",
   "execution_count": 188,
   "metadata": {},
   "outputs": [
    {
     "name": "stdout",
     "output_type": "stream",
     "text": [
      "Train on 60000 samples, validate on 10000 samples\n",
      "Epoch 1/70\n",
      "60000/60000 [==============================] - 16s 261us/step - loss: 0.6368 - acc: 0.6640 - val_loss: 0.6315 - val_acc: 0.6665\n",
      "\n",
      "Epoch 00001: val_loss improved from inf to 0.63146, saving model to checkpoints/findOptimal\n",
      "Epoch 2/70\n",
      "60000/60000 [==============================] - 1s 12us/step - loss: 0.6191 - acc: 0.6716 - val_loss: 0.6175 - val_acc: 0.6666\n",
      "\n",
      "Epoch 00002: val_loss improved from 0.63146 to 0.61746, saving model to checkpoints/findOptimal\n",
      "Epoch 3/70\n",
      "60000/60000 [==============================] - 1s 9us/step - loss: 0.5927 - acc: 0.6777 - val_loss: 0.5833 - val_acc: 0.6860\n",
      "\n",
      "Epoch 00003: val_loss improved from 0.61746 to 0.58328, saving model to checkpoints/findOptimal\n",
      "Epoch 4/70\n",
      "60000/60000 [==============================] - 1s 13us/step - loss: 0.5446 - acc: 0.7202 - val_loss: 0.5304 - val_acc: 0.7359\n",
      "\n",
      "Epoch 00004: val_loss improved from 0.58328 to 0.53036, saving model to checkpoints/findOptimal\n",
      "Epoch 5/70\n",
      "60000/60000 [==============================] - 1s 11us/step - loss: 0.4873 - acc: 0.7798 - val_loss: 0.4823 - val_acc: 0.7888\n",
      "\n",
      "Epoch 00005: val_loss improved from 0.53036 to 0.48226, saving model to checkpoints/findOptimal\n",
      "Epoch 6/70\n",
      "60000/60000 [==============================] - 1s 10us/step - loss: 0.4380 - acc: 0.8189 - val_loss: 0.4448 - val_acc: 0.8108\n",
      "\n",
      "Epoch 00006: val_loss improved from 0.48226 to 0.44484, saving model to checkpoints/findOptimal\n",
      "Epoch 7/70\n",
      "60000/60000 [==============================] - 1s 11us/step - loss: 0.3991 - acc: 0.8399 - val_loss: 0.4157 - val_acc: 0.8234\n",
      "\n",
      "Epoch 00007: val_loss improved from 0.44484 to 0.41573, saving model to checkpoints/findOptimal\n",
      "Epoch 8/70\n",
      "60000/60000 [==============================] - 1s 22us/step - loss: 0.3680 - acc: 0.8543 - val_loss: 0.3991 - val_acc: 0.8252\n",
      "\n",
      "Epoch 00008: val_loss improved from 0.41573 to 0.39908, saving model to checkpoints/findOptimal\n",
      "Epoch 9/70\n",
      "60000/60000 [==============================] - 1s 23us/step - loss: 0.3442 - acc: 0.8624 - val_loss: 0.3790 - val_acc: 0.8319\n",
      "\n",
      "Epoch 00009: val_loss improved from 0.39908 to 0.37897, saving model to checkpoints/findOptimal\n",
      "Epoch 10/70\n",
      "60000/60000 [==============================] - 0s 8us/step - loss: 0.3242 - acc: 0.8697 - val_loss: 0.3667 - val_acc: 0.8363\n",
      "\n",
      "Epoch 00010: val_loss improved from 0.37897 to 0.36674, saving model to checkpoints/findOptimal\n",
      "Epoch 11/70\n",
      "60000/60000 [==============================] - 1s 25us/step - loss: 0.3075 - acc: 0.8760 - val_loss: 0.3604 - val_acc: 0.8351\n",
      "\n",
      "Epoch 00011: val_loss improved from 0.36674 to 0.36040, saving model to checkpoints/findOptimal\n",
      "Epoch 12/70\n",
      "60000/60000 [==============================] - 1s 17us/step - loss: 0.2938 - acc: 0.8813 - val_loss: 0.3498 - val_acc: 0.8400\n",
      "\n",
      "Epoch 00012: val_loss improved from 0.36040 to 0.34976, saving model to checkpoints/findOptimal\n",
      "Epoch 13/70\n",
      "60000/60000 [==============================] - 1s 12us/step - loss: 0.2818 - acc: 0.8865 - val_loss: 0.3433 - val_acc: 0.8398\n",
      "\n",
      "Epoch 00013: val_loss improved from 0.34976 to 0.34335, saving model to checkpoints/findOptimal\n",
      "Epoch 14/70\n",
      "60000/60000 [==============================] - 1s 14us/step - loss: 0.2723 - acc: 0.8882 - val_loss: 0.3362 - val_acc: 0.8434\n",
      "\n",
      "Epoch 00014: val_loss improved from 0.34335 to 0.33623, saving model to checkpoints/findOptimal\n",
      "Epoch 15/70\n",
      "60000/60000 [==============================] - 1s 12us/step - loss: 0.2633 - acc: 0.8928 - val_loss: 0.3333 - val_acc: 0.8439\n",
      "\n",
      "Epoch 00015: val_loss improved from 0.33623 to 0.33330, saving model to checkpoints/findOptimal\n",
      "Epoch 16/70\n",
      "60000/60000 [==============================] - 1s 24us/step - loss: 0.2556 - acc: 0.8957 - val_loss: 0.3292 - val_acc: 0.8449\n",
      "\n",
      "Epoch 00016: val_loss improved from 0.33330 to 0.32923, saving model to checkpoints/findOptimal\n",
      "Epoch 17/70\n",
      "60000/60000 [==============================] - 1s 10us/step - loss: 0.2488 - acc: 0.8978 - val_loss: 0.3294 - val_acc: 0.8438\n",
      "\n",
      "Epoch 00017: val_loss did not improve from 0.32923\n",
      "Epoch 18/70\n",
      "60000/60000 [==============================] - 1s 24us/step - loss: 0.2431 - acc: 0.8998 - val_loss: 0.3226 - val_acc: 0.8476\n",
      "\n",
      "Epoch 00018: val_loss improved from 0.32923 to 0.32257, saving model to checkpoints/findOptimal\n",
      "Epoch 19/70\n",
      "60000/60000 [==============================] - 1s 9us/step - loss: 0.2374 - acc: 0.9027 - val_loss: 0.3236 - val_acc: 0.8440\n",
      "\n",
      "Epoch 00019: val_loss did not improve from 0.32257\n",
      "Epoch 20/70\n",
      "60000/60000 [==============================] - 1s 21us/step - loss: 0.2328 - acc: 0.9036 - val_loss: 0.3260 - val_acc: 0.8472\n",
      "\n",
      "Epoch 00020: val_loss did not improve from 0.32257\n",
      "Epoch 21/70\n",
      "60000/60000 [==============================] - 1s 11us/step - loss: 0.2284 - acc: 0.9058 - val_loss: 0.3232 - val_acc: 0.8462\n",
      "\n",
      "Epoch 00021: val_loss did not improve from 0.32257\n",
      "Epoch 22/70\n",
      "60000/60000 [==============================] - 1s 11us/step - loss: 0.2240 - acc: 0.9073 - val_loss: 0.3204 - val_acc: 0.8487\n",
      "\n",
      "Epoch 00022: val_loss improved from 0.32257 to 0.32037, saving model to checkpoints/findOptimal\n",
      "Epoch 23/70\n",
      "60000/60000 [==============================] - 1s 22us/step - loss: 0.2207 - acc: 0.9083 - val_loss: 0.3236 - val_acc: 0.8482\n",
      "\n",
      "Epoch 00023: val_loss did not improve from 0.32037\n",
      "Epoch 24/70\n",
      "60000/60000 [==============================] - 1s 10us/step - loss: 0.2167 - acc: 0.9099 - val_loss: 0.3203 - val_acc: 0.8479\n",
      "\n",
      "Epoch 00024: val_loss improved from 0.32037 to 0.32025, saving model to checkpoints/findOptimal\n",
      "Epoch 25/70\n",
      "60000/60000 [==============================] - 1s 10us/step - loss: 0.2125 - acc: 0.9125 - val_loss: 0.3212 - val_acc: 0.8476\n",
      "\n",
      "Epoch 00025: val_loss did not improve from 0.32025\n",
      "Epoch 26/70\n",
      "60000/60000 [==============================] - 1s 20us/step - loss: 0.2103 - acc: 0.9133 - val_loss: 0.3210 - val_acc: 0.8490\n",
      "\n",
      "Epoch 00026: val_loss did not improve from 0.32025\n",
      "Epoch 27/70\n",
      "60000/60000 [==============================] - 1s 10us/step - loss: 0.2065 - acc: 0.9148 - val_loss: 0.3209 - val_acc: 0.8479\n",
      "\n",
      "Epoch 00027: val_loss did not improve from 0.32025\n",
      "Epoch 28/70\n",
      "60000/60000 [==============================] - 1s 9us/step - loss: 0.2045 - acc: 0.9161 - val_loss: 0.3246 - val_acc: 0.8469\n",
      "\n",
      "Epoch 00028: val_loss did not improve from 0.32025\n",
      "Epoch 29/70\n",
      "60000/60000 [==============================] - 1s 10us/step - loss: 0.2019 - acc: 0.9166 - val_loss: 0.3247 - val_acc: 0.8457\n",
      "\n",
      "Epoch 00029: val_loss did not improve from 0.32025\n",
      "Epoch 30/70\n",
      "60000/60000 [==============================] - 1s 9us/step - loss: 0.1987 - acc: 0.9177 - val_loss: 0.3257 - val_acc: 0.8493\n",
      "\n",
      "Epoch 00030: val_loss did not improve from 0.32025\n",
      "Epoch 31/70\n",
      "60000/60000 [==============================] - 1s 10us/step - loss: 0.1961 - acc: 0.9188 - val_loss: 0.3249 - val_acc: 0.8479\n",
      "\n",
      "Epoch 00031: val_loss did not improve from 0.32025\n",
      "Epoch 32/70\n",
      "60000/60000 [==============================] - 1s 11us/step - loss: 0.1941 - acc: 0.9199 - val_loss: 0.3257 - val_acc: 0.8467\n",
      "\n",
      "Epoch 00032: val_loss did not improve from 0.32025\n",
      "Epoch 33/70\n",
      "60000/60000 [==============================] - 1s 10us/step - loss: 0.1921 - acc: 0.9203 - val_loss: 0.3228 - val_acc: 0.8492\n",
      "\n",
      "Epoch 00033: val_loss did not improve from 0.32025\n",
      "Epoch 34/70\n",
      "60000/60000 [==============================] - 1s 11us/step - loss: 0.1898 - acc: 0.9221 - val_loss: 0.3226 - val_acc: 0.8483\n",
      "\n",
      "Epoch 00034: val_loss did not improve from 0.32025\n",
      "Epoch 35/70\n",
      "60000/60000 [==============================] - 1s 10us/step - loss: 0.1880 - acc: 0.9240 - val_loss: 0.3241 - val_acc: 0.8484\n",
      "\n",
      "Epoch 00035: val_loss did not improve from 0.32025\n",
      "Epoch 36/70\n",
      "60000/60000 [==============================] - 1s 10us/step - loss: 0.1860 - acc: 0.9239 - val_loss: 0.3255 - val_acc: 0.8492\n",
      "\n",
      "Epoch 00036: val_loss did not improve from 0.32025\n",
      "Epoch 37/70\n",
      "60000/60000 [==============================] - 1s 10us/step - loss: 0.1839 - acc: 0.9247 - val_loss: 0.3291 - val_acc: 0.8466\n",
      "\n",
      "Epoch 00037: val_loss did not improve from 0.32025\n",
      "Epoch 38/70\n",
      "60000/60000 [==============================] - 1s 11us/step - loss: 0.1820 - acc: 0.9254 - val_loss: 0.3276 - val_acc: 0.8473\n",
      "\n",
      "Epoch 00038: val_loss did not improve from 0.32025\n",
      "Epoch 39/70\n",
      "60000/60000 [==============================] - 0s 8us/step - loss: 0.1799 - acc: 0.9274 - val_loss: 0.3294 - val_acc: 0.8468\n",
      "\n",
      "Epoch 00039: val_loss did not improve from 0.32025\n",
      "Epoch 40/70\n",
      "60000/60000 [==============================] - 0s 8us/step - loss: 0.1786 - acc: 0.9264 - val_loss: 0.3300 - val_acc: 0.8480\n",
      "\n",
      "Epoch 00040: val_loss did not improve from 0.32025\n",
      "Epoch 41/70\n",
      "60000/60000 [==============================] - 1s 9us/step - loss: 0.1772 - acc: 0.9282 - val_loss: 0.3290 - val_acc: 0.8469\n",
      "\n",
      "Epoch 00041: val_loss did not improve from 0.32025\n",
      "Epoch 42/70\n",
      "60000/60000 [==============================] - 0s 8us/step - loss: 0.1758 - acc: 0.9279 - val_loss: 0.3314 - val_acc: 0.8443\n",
      "\n",
      "Epoch 00042: val_loss did not improve from 0.32025\n",
      "Epoch 43/70\n",
      "60000/60000 [==============================] - 1s 9us/step - loss: 0.1740 - acc: 0.9289 - val_loss: 0.3334 - val_acc: 0.8475\n",
      "\n",
      "Epoch 00043: val_loss did not improve from 0.32025\n",
      "Epoch 44/70\n",
      "60000/60000 [==============================] - 0s 8us/step - loss: 0.1719 - acc: 0.9301 - val_loss: 0.3339 - val_acc: 0.8512\n",
      "\n",
      "Epoch 00044: val_loss did not improve from 0.32025\n",
      "Epoch 45/70\n",
      "60000/60000 [==============================] - 1s 9us/step - loss: 0.1704 - acc: 0.9305 - val_loss: 0.3346 - val_acc: 0.8491\n",
      "\n",
      "Epoch 00045: val_loss did not improve from 0.32025\n",
      "Epoch 46/70\n",
      "60000/60000 [==============================] - 1s 8us/step - loss: 0.1695 - acc: 0.9305 - val_loss: 0.3362 - val_acc: 0.8496\n",
      "\n",
      "Epoch 00046: val_loss did not improve from 0.32025\n",
      "Epoch 47/70\n",
      "60000/60000 [==============================] - 1s 10us/step - loss: 0.1675 - acc: 0.9316 - val_loss: 0.3367 - val_acc: 0.8445\n",
      "\n",
      "Epoch 00047: val_loss did not improve from 0.32025\n",
      "Epoch 48/70\n",
      "60000/60000 [==============================] - 1s 9us/step - loss: 0.1668 - acc: 0.9321 - val_loss: 0.3386 - val_acc: 0.8492\n",
      "\n",
      "Epoch 00048: val_loss did not improve from 0.32025\n",
      "Epoch 49/70\n",
      "60000/60000 [==============================] - 1s 9us/step - loss: 0.1654 - acc: 0.9333 - val_loss: 0.3472 - val_acc: 0.8482\n",
      "\n",
      "Epoch 00049: val_loss did not improve from 0.32025\n",
      "Epoch 50/70\n",
      "60000/60000 [==============================] - 0s 8us/step - loss: 0.1642 - acc: 0.9334 - val_loss: 0.3426 - val_acc: 0.8477\n",
      "\n",
      "Epoch 00050: val_loss did not improve from 0.32025\n",
      "Epoch 51/70\n",
      "60000/60000 [==============================] - 1s 9us/step - loss: 0.1632 - acc: 0.9340 - val_loss: 0.3432 - val_acc: 0.8446\n",
      "\n",
      "Epoch 00051: val_loss did not improve from 0.32025\n",
      "Epoch 52/70\n",
      "60000/60000 [==============================] - 0s 8us/step - loss: 0.1619 - acc: 0.9345 - val_loss: 0.3459 - val_acc: 0.8454\n",
      "\n",
      "Epoch 00052: val_loss did not improve from 0.32025\n",
      "Epoch 53/70\n",
      "60000/60000 [==============================] - 0s 8us/step - loss: 0.1598 - acc: 0.9362 - val_loss: 0.3428 - val_acc: 0.8490\n",
      "\n",
      "Epoch 00053: val_loss did not improve from 0.32025\n",
      "Epoch 54/70\n",
      "60000/60000 [==============================] - 0s 8us/step - loss: 0.1591 - acc: 0.9350 - val_loss: 0.3534 - val_acc: 0.8481\n",
      "\n",
      "Epoch 00054: val_loss did not improve from 0.32025\n",
      "Epoch 55/70\n",
      "60000/60000 [==============================] - 0s 7us/step - loss: 0.1581 - acc: 0.9364 - val_loss: 0.3479 - val_acc: 0.8461\n",
      "\n",
      "Epoch 00055: val_loss did not improve from 0.32025\n",
      "Epoch 56/70\n",
      "60000/60000 [==============================] - 0s 8us/step - loss: 0.1572 - acc: 0.9367 - val_loss: 0.3466 - val_acc: 0.8455\n",
      "\n",
      "Epoch 00056: val_loss did not improve from 0.32025\n",
      "Epoch 57/70\n",
      "60000/60000 [==============================] - 0s 8us/step - loss: 0.1556 - acc: 0.9365 - val_loss: 0.3479 - val_acc: 0.8482\n",
      "\n",
      "Epoch 00057: val_loss did not improve from 0.32025\n",
      "Epoch 58/70\n",
      "60000/60000 [==============================] - 0s 8us/step - loss: 0.1547 - acc: 0.9378 - val_loss: 0.3495 - val_acc: 0.8473\n",
      "\n",
      "Epoch 00058: val_loss did not improve from 0.32025\n",
      "Epoch 59/70\n",
      "60000/60000 [==============================] - 0s 8us/step - loss: 0.1529 - acc: 0.9384 - val_loss: 0.3539 - val_acc: 0.8455\n",
      "\n",
      "Epoch 00059: val_loss did not improve from 0.32025\n",
      "Epoch 60/70\n",
      "60000/60000 [==============================] - 0s 8us/step - loss: 0.1527 - acc: 0.9382 - val_loss: 0.3529 - val_acc: 0.8462\n",
      "\n",
      "Epoch 00060: val_loss did not improve from 0.32025\n",
      "Epoch 61/70\n",
      "60000/60000 [==============================] - 1s 9us/step - loss: 0.1519 - acc: 0.9392 - val_loss: 0.3532 - val_acc: 0.8481\n",
      "\n",
      "Epoch 00061: val_loss did not improve from 0.32025\n",
      "Epoch 62/70\n",
      "60000/60000 [==============================] - 1s 9us/step - loss: 0.1507 - acc: 0.9400 - val_loss: 0.3573 - val_acc: 0.8457\n",
      "\n",
      "Epoch 00062: val_loss did not improve from 0.32025\n",
      "Epoch 63/70\n",
      "60000/60000 [==============================] - 1s 9us/step - loss: 0.1504 - acc: 0.9397 - val_loss: 0.3531 - val_acc: 0.8497\n",
      "\n",
      "Epoch 00063: val_loss did not improve from 0.32025\n",
      "Epoch 64/70\n",
      "60000/60000 [==============================] - 1s 9us/step - loss: 0.1485 - acc: 0.9402 - val_loss: 0.3581 - val_acc: 0.8489\n",
      "\n",
      "Epoch 00064: val_loss did not improve from 0.32025\n",
      "Epoch 65/70\n",
      "60000/60000 [==============================] - 1s 9us/step - loss: 0.1484 - acc: 0.9405 - val_loss: 0.3594 - val_acc: 0.8491\n",
      "\n",
      "Epoch 00065: val_loss did not improve from 0.32025\n",
      "Epoch 66/70\n",
      "60000/60000 [==============================] - 1s 9us/step - loss: 0.1471 - acc: 0.9409 - val_loss: 0.3612 - val_acc: 0.8481\n",
      "\n",
      "Epoch 00066: val_loss did not improve from 0.32025\n",
      "Epoch 67/70\n",
      "60000/60000 [==============================] - 1s 9us/step - loss: 0.1463 - acc: 0.9412 - val_loss: 0.3612 - val_acc: 0.8476\n",
      "\n",
      "Epoch 00067: val_loss did not improve from 0.32025\n",
      "Epoch 68/70\n",
      "60000/60000 [==============================] - 1s 10us/step - loss: 0.1455 - acc: 0.9415 - val_loss: 0.3647 - val_acc: 0.8480\n",
      "\n",
      "Epoch 00068: val_loss did not improve from 0.32025\n",
      "Epoch 69/70\n",
      "60000/60000 [==============================] - 1s 10us/step - loss: 0.1450 - acc: 0.9416 - val_loss: 0.3669 - val_acc: 0.8478\n",
      "\n",
      "Epoch 00069: val_loss did not improve from 0.32025\n",
      "Epoch 70/70\n",
      "60000/60000 [==============================] - 0s 8us/step - loss: 0.1441 - acc: 0.9420 - val_loss: 0.3657 - val_acc: 0.8456\n",
      "\n",
      "Epoch 00070: val_loss did not improve from 0.32025\n"
     ]
    }
   ],
   "source": [
    "checkpoint_path = \"checkpoints/findOptimal\"\n",
    "\n",
    "# Create checkpoint callback\n",
    "cp_callback = tf.keras.callbacks.ModelCheckpoint(checkpoint_path, \n",
    "                                                 save_weights_only=True,\n",
    "                                                 verbose=1, save_best_only=True)\n",
    "\n",
    "\n",
    "model = keras.Sequential([\n",
    "    #keras.layers.Flatten(input_shape=(28, 28)),\n",
    "    keras.layers.Flatten(input_shape=(10, 10)),\n",
    "    keras.layers.Dense(128, activation=tf.nn.relu),\n",
    "    #keras.layers.Dense(10, activation=tf.nn.softmax)\n",
    "    keras.layers.Dense(2, activation=tf.nn.softmax)\n",
    "])\n",
    "model.compile(optimizer=keras.optimizers.Adam(), \n",
    "              loss='sparse_categorical_crossentropy',\n",
    "              metrics=['accuracy'])\n",
    "history=model.fit(train_images, train_labels, epochs=70, batch_size=512, validation_data=(val_images, val_labels), callbacks = [cp_callback])\n",
    "\n",
    "history_dict = history.history"
   ]
  },
  {
   "cell_type": "code",
   "execution_count": 189,
   "metadata": {
    "scrolled": true
   },
   "outputs": [
    {
     "data": {
      "image/png": "[encoded data removed]",
      "text/plain": [
       "<Figure size 432x288 with 1 Axes>"
      ]
     },
     "metadata": {},
     "output_type": "display_data"
    }
   ],
   "source": [
    "import matplotlib.pyplot as plt\n",
    "\n",
    "acc = history.history['acc']\n",
    "val_acc = history.history['val_acc']\n",
    "loss = history.history['loss']\n",
    "val_loss = history.history['val_loss']\n",
    "\n",
    "epochs = range(1, len(acc) + 1)\n",
    "\n",
    "plt.plot(epochs, loss, 'bo-', mfc='None', label='Training loss')\n",
    "plt.plot(epochs, val_loss, 'ro-', mfc='None', label='Validation loss')\n",
    "plt.title('Training and validation loss')\n",
    "plt.xlabel('Epochs')\n",
    "plt.ylabel('Loss')\n",
    "plt.legend()\n",
    "\n",
    "plt.show()"
   ]
  },
  {
   "cell_type": "code",
   "execution_count": 275,
   "metadata": {},
   "outputs": [
    {
     "data": {
      "image/png": "[encoded data removed]",
      "text/plain": [
       "<Figure size 432x288 with 1 Axes>"
      ]
     },
     "metadata": {},
     "output_type": "display_data"
    }
   ],
   "source": [
    "import matplotlib.pyplot as plt\n",
    "\n",
    "acc = history.history['acc']\n",
    "val_acc = history.history['val_acc']\n",
    "loss = history.history['loss']\n",
    "val_loss = history.history['val_loss']\n",
    "\n",
    "epochs = range(1, len(acc) + 1)\n",
    "\n",
    "plt.plot(epochs, loss, 'bo-', mfc='White', label='Training loss')\n",
    "plt.plot(epochs, val_loss, 'ro-', mfc='White', label='Validation loss')\n",
    "plt.title('Training and validation loss')\n",
    "plt.xlabel('Epochs')\n",
    "plt.ylabel('Loss')\n",
    "plt.legend()\n",
    "\n",
    "plt.savefig('figs/Loss2.svg')"
   ]
  },
  {
   "cell_type": "code",
   "execution_count": 190,
   "metadata": {},
   "outputs": [
    {
     "data": {
      "image/png": "[encoded data removed]",
      "text/plain": [
       "<Figure size 432x288 with 1 Axes>"
      ]
     },
     "metadata": {},
     "output_type": "display_data"
    }
   ],
   "source": [
    "acc_values = history_dict['acc']\n",
    "val_acc_values = history_dict['val_acc']\n",
    "\n",
    "plt.plot(epochs, acc, 'bo-', mfc='None', label='Training acc')\n",
    "plt.plot(epochs, val_acc, 'ro-', mfc='None', label='Validation acc')\n",
    "plt.title('Training and validation accuracy')\n",
    "plt.xlabel('Epochs')\n",
    "plt.ylabel('Accuracy')\n",
    "plt.legend()\n",
    "\n",
    "plt.show()"
   ]
  },
  {
   "cell_type": "code",
   "execution_count": 276,
   "metadata": {},
   "outputs": [
    {
     "data": {
      "image/png": "[encoded data removed]",
      "text/plain": [
       "<Figure size 432x288 with 1 Axes>"
      ]
     },
     "metadata": {},
     "output_type": "display_data"
    }
   ],
   "source": [
    "acc_values = history_dict['acc']\n",
    "val_acc_values = history_dict['val_acc']\n",
    "\n",
    "plt.plot(epochs, acc, 'bo-', mfc='White', label='Training acc')\n",
    "plt.plot(epochs, val_acc, 'ro-', mfc='White', label='Validation acc')\n",
    "plt.title('Training and validation accuracy')\n",
    "plt.xlabel('Epochs')\n",
    "plt.ylabel('Accuracy')\n",
    "plt.legend()\n",
    "\n",
    "plt.savefig('figs/Acc2.svg')"
   ]
  },
  {
   "cell_type": "code",
   "execution_count": 252,
   "metadata": {},
   "outputs": [
    {
     "data": {
      "text/plain": [
       "array([0.36566077, 0.8456    ])"
      ]
     },
     "execution_count": 252,
     "metadata": {},
     "output_type": "execute_result"
    }
   ],
   "source": [
    "np.array([history_dict['val_loss'], history_dict['val_acc']])[:,-1]"
   ]
  },
  {
   "cell_type": "code",
   "execution_count": 205,
   "metadata": {},
   "outputs": [
    {
     "name": "stdout",
     "output_type": "stream",
     "text": [
      "10000/10000 [==============================] - 0s 35us/step\n"
     ]
    },
    {
     "data": {
      "text/plain": [
       "[0.36566078181266787, 0.8456]"
      ]
     },
     "execution_count": 205,
     "metadata": {},
     "output_type": "execute_result"
    }
   ],
   "source": [
    "model.evaluate(test_images, test_labels)"
   ]
  },
  {
   "cell_type": "code",
   "execution_count": 280,
   "metadata": {},
   "outputs": [
    {
     "name": "stdout",
     "output_type": "stream",
     "text": [
      "10000/10000 [==============================] - 0s 31us/step\n"
     ]
    },
    {
     "data": {
      "text/plain": [
       "[0.32025191278457643, 0.8479]"
      ]
     },
     "execution_count": 280,
     "metadata": {},
     "output_type": "execute_result"
    }
   ],
   "source": [
    "model.load_weights('checkpoints/findOptimal')\n",
    "model.evaluate(test_images, test_labels)"
   ]
  },
  {
   "cell_type": "code",
   "execution_count": 233,
   "metadata": {},
   "outputs": [
    {
     "data": {
      "text/plain": [
       "array([0.32025191, 0.8479    ])"
      ]
     },
     "execution_count": 233,
     "metadata": {},
     "output_type": "execute_result"
    }
   ],
   "source": [
    "np.array([history_dict['val_loss'], history_dict['val_acc']])[:,np.argmin(history_dict['val_loss'])]"
   ]
  },
  {
   "cell_type": "code",
   "execution_count": 102,
   "metadata": {},
   "outputs": [],
   "source": [
    "#model.save_weights('./checkpoints/overfitting')\n"
   ]
  },
  {
   "cell_type": "code",
   "execution_count": 120,
   "metadata": {},
   "outputs": [
    {
     "data": {
      "text/plain": [
       "<tensorflow.python.training.checkpointable.util.CheckpointLoadStatus at 0x19941ed81d0>"
      ]
     },
     "execution_count": 120,
     "metadata": {},
     "output_type": "execute_result"
    }
   ],
   "source": [
    "#model.load_weights('./checkpoints/overfitting')\n"
   ]
  },
  {
   "cell_type": "code",
   "execution_count": 72,
   "metadata": {
    "scrolled": true
   },
   "outputs": [
    {
     "name": "stdout",
     "output_type": "stream",
     "text": [
      "10000/10000 [==============================] - 0s 33us/step\n",
      "Test accuracy: 0.842\n"
     ]
    }
   ],
   "source": [
    "test_loss, test_acc = model.evaluate(test_images, test_labels)\n",
    "\n",
    "print('Test accuracy:', test_acc)"
   ]
  },
  {
   "cell_type": "code",
   "execution_count": 73,
   "metadata": {},
   "outputs": [],
   "source": [
    "predictions = model.predict(test_images)\n"
   ]
  },
  {
   "cell_type": "code",
   "execution_count": 74,
   "metadata": {},
   "outputs": [],
   "source": [
    "def plot_image(i, predictions_array, true_label, img):\n",
    "  predictions_array, true_label, img = predictions_array[i], true_label[i], img[i]\n",
    "  plt.grid(False)\n",
    "  plt.xticks([])\n",
    "  plt.yticks([])\n",
    "  \n",
    "  plt.imshow(img, cmap=plt.cm.binary)\n",
    "\n",
    "  predicted_label = np.argmax(predictions_array)\n",
    "  if predicted_label == true_label:\n",
    "    color = 'blue'\n",
    "  else:\n",
    "    color = 'red'\n",
    "  \n",
    "  plt.xlabel(\"{} {:2.0f}% ({})\".format(class_names[predicted_label],\n",
    "                                100*np.max(predictions_array),\n",
    "                                class_names[true_label]),\n",
    "                                color=color)\n",
    "\n",
    "def plot_value_array(i, predictions_array, true_label):\n",
    "  predictions_array, true_label = predictions_array[i], true_label[i]\n",
    "  plt.grid(False)\n",
    "  plt.xticks([])\n",
    "  plt.yticks([])\n",
    "  #thisplot = plt.bar(range(10), predictions_array, color=\"#777777\")\n",
    "  thisplot = plt.bar(range(2), predictions_array, color=\"#777777\")\n",
    "  plt.ylim([0, 1]) \n",
    "  predicted_label = np.argmax(predictions_array)\n",
    " \n",
    "  thisplot[predicted_label].set_color('red')\n",
    "  thisplot[true_label].set_color('blue')\n"
   ]
  },
  {
   "cell_type": "code",
   "execution_count": 75,
   "metadata": {},
   "outputs": [
    {
     "name": "stderr",
     "output_type": "stream",
     "text": [
      "D:\\ProgramData\\Anaconda3\\lib\\site-packages\\ipykernel_launcher.py:17: DeprecationWarning: In future, it will be an error for 'np.bool_' scalars to be interpreted as an index\n",
      "D:\\ProgramData\\Anaconda3\\lib\\site-packages\\ipykernel_launcher.py:31: DeprecationWarning: In future, it will be an error for 'np.bool_' scalars to be interpreted as an index\n"
     ]
    },
    {
     "data": {
      "image/png": "[encoded data removed]",
      "text/plain": [
       "<Figure size 432x216 with 2 Axes>"
      ]
     },
     "metadata": {},
     "output_type": "display_data"
    }
   ],
   "source": [
    "i = 0\n",
    "plt.figure(figsize=(6,3))\n",
    "plt.subplot(1,2,1)\n",
    "plot_image(i, predictions, test_labels, test_images)\n",
    "plt.subplot(1,2,2)\n",
    "plot_value_array(i, predictions,  test_labels)\n"
   ]
  },
  {
   "cell_type": "code",
   "execution_count": 282,
   "metadata": {
    "scrolled": false
   },
   "outputs": [
    {
     "name": "stderr",
     "output_type": "stream",
     "text": [
      "D:\\ProgramData\\Anaconda3\\lib\\site-packages\\ipykernel_launcher.py:17: DeprecationWarning: In future, it will be an error for 'np.bool_' scalars to be interpreted as an index\n",
      "D:\\ProgramData\\Anaconda3\\lib\\site-packages\\ipykernel_launcher.py:31: DeprecationWarning: In future, it will be an error for 'np.bool_' scalars to be interpreted as an index\n"
     ]
    },
    {
     "data": {
      "image/png": "[encoded data removed]",
      "text/plain": [
       "<Figure size 864x720 with 30 Axes>"
      ]
     },
     "metadata": {},
     "output_type": "display_data"
    }
   ],
   "source": [
    "\n",
    "\n",
    "# Plot the first X test images, their predicted label, and the true label\n",
    "# Color correct predictions in blue, incorrect predictions in red\n",
    "num_rows = 5\n",
    "num_cols = 3\n",
    "num_images = num_rows*num_cols\n",
    "plt.figure(figsize=(2*2*num_cols, 2*num_rows))\n",
    "for i in range(num_images):\n",
    "  plt.subplot(num_rows, 2*num_cols, 2*i+1)\n",
    "  plot_image(i, predictions, test_labels, test_images)\n",
    "  plt.subplot(num_rows, 2*num_cols, 2*i+2)\n",
    "  plot_value_array(i, predictions, test_labels)\n",
    "#plt.savefig('figs/15cases.svg')"
   ]
  },
  {
   "cell_type": "code",
   "execution_count": 77,
   "metadata": {},
   "outputs": [
    {
     "name": "stdout",
     "output_type": "stream",
     "text": [
      "(10, 10)\n"
     ]
    }
   ],
   "source": [
    "# Grab an image from the test dataset\n",
    "img = test_images[0]\n",
    "\n",
    "print(img.shape)"
   ]
  },
  {
   "cell_type": "code",
   "execution_count": 78,
   "metadata": {},
   "outputs": [
    {
     "name": "stdout",
     "output_type": "stream",
     "text": [
      "[[0.06934408 0.93065596]]\n"
     ]
    }
   ],
   "source": [
    "predictions_single = model.predict(img[None,...])\n",
    "\n",
    "print(predictions_single)"
   ]
  },
  {
   "cell_type": "code",
   "execution_count": 79,
   "metadata": {},
   "outputs": [
    {
     "data": {
      "text/plain": [
       "array([0., 1.], dtype=float32)"
      ]
     },
     "execution_count": 79,
     "metadata": {},
     "output_type": "execute_result"
    }
   ],
   "source": [
    "one_hot=np.zeros_like(predictions_single)\n",
    "one_hot[0,np.argmax(predictions_single)]=1\n",
    "np.squeeze(one_hot)"
   ]
  },
  {
   "cell_type": "code",
   "execution_count": 80,
   "metadata": {},
   "outputs": [
    {
     "name": "stderr",
     "output_type": "stream",
     "text": [
      "D:\\ProgramData\\Anaconda3\\lib\\site-packages\\ipykernel_launcher.py:31: DeprecationWarning: In future, it will be an error for 'np.bool_' scalars to be interpreted as an index\n"
     ]
    },
    {
     "data": {
      "image/png": "[encoded data removed]",
      "text/plain": [
       "<Figure size 432x288 with 1 Axes>"
      ]
     },
     "metadata": {},
     "output_type": "display_data"
    }
   ],
   "source": [
    "\n",
    "\n",
    "plot_value_array(0, predictions_single, test_labels)\n",
    "#_ = plt.xticks(range(10), class_names, rotation=45)\n",
    "_ = plt.xticks(range(2), class_names, rotation=45)"
   ]
  },
  {
   "cell_type": "code",
   "execution_count": 81,
   "metadata": {},
   "outputs": [
    {
     "name": "stdout",
     "output_type": "stream",
     "text": [
      "Help on package tensorflow.keras.datasets in tensorflow.keras:\n",
      "\n",
      "NAME\n",
      "    tensorflow.keras.datasets - Keras built-in datasets.\n",
      "\n",
      "PACKAGE CONTENTS\n",
      "    boston_housing (package)\n",
      "    cifar10 (package)\n",
      "    cifar100 (package)\n",
      "    fashion_mnist (package)\n",
      "    imdb (package)\n",
      "    mnist (package)\n",
      "    reuters (package)\n",
      "\n",
      "FILE\n",
      "    d:\\programdata\\anaconda3\\lib\\site-packages\\tensorflow\\keras\\datasets\\__init__.py\n",
      "\n",
      "\n"
     ]
    }
   ],
   "source": [
    "help(keras.datasets)"
   ]
  }
 ],
 "metadata": {
  "kernelspec": {
   "display_name": "Python 3",
   "language": "python",
   "name": "python3"
  },
  "language_info": {
   "codemirror_mode": {
    "name": "ipython",
    "version": 3
   },
   "file_extension": ".py",
   "mimetype": "text/x-python",
   "name": "python",
   "nbconvert_exporter": "python",
   "pygments_lexer": "ipython3",
   "version": "3.6.5"
  }
 },
 "nbformat": 4,
 "nbformat_minor": 2
}
