{
 "cells": [
  {
   "cell_type": "code",
   "execution_count": 176,
   "metadata": {
    "scrolled": true
   },
   "outputs": [],
   "source": [
    "# TensorFlow and tf.keras\n",
    "import tensorflow as tf\n",
    "from tensorflow import keras\n",
    "\n",
    "# sklearn\n",
    "import sklearn\n",
    "\n",
    "# Helper libraries\n",
    "import numpy as np\n",
    "import matplotlib.pyplot as plt\n",
    "import matplotlib as mpl\n",
    "\n"
   ]
  },
  {
   "cell_type": "code",
   "execution_count": 6,
   "metadata": {},
   "outputs": [],
   "source": [
    "#fashion_mnist = keras.datasets.mnist\n",
    "\n",
    "label=np.fromfile(\"labelBin\", np.uint8)[10:]\n",
    "points=np.fromfile(\"pointsBin\", np.uint16)[3:].reshape(len(label), -1)\n",
    "images=np.zeros((len(label),10,10), dtype=bool)\n",
    "for i in range(len(label)):\n",
    "        images[i, points[...,::2][i], points[...,1::2][i]]=1\n",
    "\n",
    "#(train_images, train_labels), (test_images, test_labels) = fashion_mnist.load_data()\n",
    "(train_images, train_labels), (val_images, val_labels),(test_images, test_labels) = (images[:60000], label[:60000]), (images[60000:70000], label[60000:70000]), (images[70000:80000], label[70000:80000])\n",
    "\n",
    "#class_names = ['T-shirt/top', 'Trouser', 'Pullover', 'Dress', 'Coat', \n",
    "#               'Sandal', 'Shirt', 'Sneaker', 'Bag', 'Ankle boot']\n",
    "class_names = ['Not repairable', 'Repairable']"
   ]
  },
  {
   "cell_type": "code",
   "execution_count": 28,
   "metadata": {
    "scrolled": true
   },
   "outputs": [
    {
     "name": "stdout",
     "output_type": "stream",
     "text": [
      "Train on 60000 samples, validate on 10000 samples\n",
      "Epoch 1/200\n",
      "60000/60000 [==============================] - 1s 10us/step - loss: 0.6425 - acc: 0.6540 - val_loss: 0.6330 - val_acc: 0.6642\n",
      "Epoch 2/200\n",
      "60000/60000 [==============================] - 0s 6us/step - loss: 0.6238 - acc: 0.6661 - val_loss: 0.6184 - val_acc: 0.6646\n",
      "Epoch 3/200\n",
      "60000/60000 [==============================] - 0s 5us/step - loss: 0.5975 - acc: 0.6714 - val_loss: 0.5838 - val_acc: 0.6845\n",
      "Epoch 4/200\n",
      "60000/60000 [==============================] - 0s 6us/step - loss: 0.5467 - acc: 0.7206 - val_loss: 0.5300 - val_acc: 0.7518\n",
      "Epoch 5/200\n",
      "60000/60000 [==============================] - 0s 6us/step - loss: 0.4866 - acc: 0.7840 - val_loss: 0.4795 - val_acc: 0.7890\n",
      "Epoch 6/200\n",
      "60000/60000 [==============================] - 0s 6us/step - loss: 0.4348 - acc: 0.8217 - val_loss: 0.4416 - val_acc: 0.8157\n",
      "Epoch 7/200\n",
      "60000/60000 [==============================] - 0s 6us/step - loss: 0.3957 - acc: 0.8415 - val_loss: 0.4142 - val_acc: 0.8221\n",
      "Epoch 8/200\n",
      "60000/60000 [==============================] - 0s 5us/step - loss: 0.3649 - acc: 0.8541 - val_loss: 0.3923 - val_acc: 0.8327\n",
      "Epoch 9/200\n",
      "60000/60000 [==============================] - 0s 5us/step - loss: 0.3415 - acc: 0.8627 - val_loss: 0.3761 - val_acc: 0.8332\n",
      "Epoch 10/200\n",
      "60000/60000 [==============================] - 1s 8us/step - loss: 0.3217 - acc: 0.8712 - val_loss: 0.3613 - val_acc: 0.8382\n",
      "Epoch 11/200\n",
      "60000/60000 [==============================] - 0s 5us/step - loss: 0.3052 - acc: 0.8752 - val_loss: 0.3523 - val_acc: 0.8418\n",
      "Epoch 12/200\n",
      "60000/60000 [==============================] - 0s 8us/step - loss: 0.2913 - acc: 0.8819 - val_loss: 0.3427 - val_acc: 0.8426\n",
      "Epoch 13/200\n",
      "60000/60000 [==============================] - 0s 6us/step - loss: 0.2803 - acc: 0.8860 - val_loss: 0.3359 - val_acc: 0.8437\n",
      "Epoch 14/200\n",
      "60000/60000 [==============================] - 0s 7us/step - loss: 0.2705 - acc: 0.8881 - val_loss: 0.3306 - val_acc: 0.8473\n",
      "Epoch 15/200\n",
      "60000/60000 [==============================] - 0s 7us/step - loss: 0.2617 - acc: 0.8913 - val_loss: 0.3279 - val_acc: 0.8472\n",
      "Epoch 16/200\n",
      "60000/60000 [==============================] - 0s 5us/step - loss: 0.2543 - acc: 0.8945 - val_loss: 0.3210 - val_acc: 0.8496\n",
      "Epoch 17/200\n",
      "60000/60000 [==============================] - 1s 9us/step - loss: 0.2478 - acc: 0.8969 - val_loss: 0.3203 - val_acc: 0.8506\n",
      "Epoch 18/200\n",
      "60000/60000 [==============================] - 0s 7us/step - loss: 0.2418 - acc: 0.8998 - val_loss: 0.3173 - val_acc: 0.8492\n",
      "Epoch 19/200\n",
      "60000/60000 [==============================] - 0s 5us/step - loss: 0.2362 - acc: 0.9014 - val_loss: 0.3180 - val_acc: 0.8470\n",
      "Epoch 20/200\n",
      "60000/60000 [==============================] - 0s 5us/step - loss: 0.2320 - acc: 0.9030 - val_loss: 0.3149 - val_acc: 0.8498\n",
      "Epoch 21/200\n",
      "60000/60000 [==============================] - 0s 5us/step - loss: 0.2273 - acc: 0.9047 - val_loss: 0.3150 - val_acc: 0.8484\n",
      "Epoch 22/200\n",
      "60000/60000 [==============================] - 0s 5us/step - loss: 0.2236 - acc: 0.9067 - val_loss: 0.3120 - val_acc: 0.8523\n",
      "Epoch 23/200\n",
      "60000/60000 [==============================] - 0s 5us/step - loss: 0.2196 - acc: 0.9078 - val_loss: 0.3181 - val_acc: 0.8514\n",
      "Epoch 24/200\n",
      "60000/60000 [==============================] - 0s 5us/step - loss: 0.2159 - acc: 0.9111 - val_loss: 0.3145 - val_acc: 0.8525\n",
      "Epoch 25/200\n",
      "60000/60000 [==============================] - 0s 5us/step - loss: 0.2121 - acc: 0.9127 - val_loss: 0.3130 - val_acc: 0.8527\n",
      "Epoch 26/200\n",
      "60000/60000 [==============================] - 0s 5us/step - loss: 0.2091 - acc: 0.9137 - val_loss: 0.3180 - val_acc: 0.8478\n",
      "Epoch 27/200\n",
      "60000/60000 [==============================] - 0s 5us/step - loss: 0.2060 - acc: 0.9141 - val_loss: 0.3132 - val_acc: 0.8510\n",
      "Epoch 28/200\n",
      "60000/60000 [==============================] - 0s 5us/step - loss: 0.2033 - acc: 0.9156 - val_loss: 0.3128 - val_acc: 0.8528\n",
      "Epoch 29/200\n",
      "60000/60000 [==============================] - 0s 6us/step - loss: 0.2008 - acc: 0.9163 - val_loss: 0.3146 - val_acc: 0.8518\n",
      "Epoch 30/200\n",
      "60000/60000 [==============================] - 0s 6us/step - loss: 0.1981 - acc: 0.9182 - val_loss: 0.3140 - val_acc: 0.8520\n",
      "Epoch 31/200\n",
      "60000/60000 [==============================] - 0s 6us/step - loss: 0.1963 - acc: 0.9178 - val_loss: 0.3140 - val_acc: 0.8501\n",
      "Epoch 32/200\n",
      "60000/60000 [==============================] - 0s 5us/step - loss: 0.1936 - acc: 0.9207 - val_loss: 0.3148 - val_acc: 0.8494\n",
      "Epoch 33/200\n",
      "60000/60000 [==============================] - 0s 5us/step - loss: 0.1921 - acc: 0.9204 - val_loss: 0.3159 - val_acc: 0.8524\n",
      "Epoch 34/200\n",
      "60000/60000 [==============================] - 0s 5us/step - loss: 0.1892 - acc: 0.9218 - val_loss: 0.3179 - val_acc: 0.8505\n",
      "Epoch 35/200\n",
      "60000/60000 [==============================] - 0s 5us/step - loss: 0.1876 - acc: 0.9225 - val_loss: 0.3180 - val_acc: 0.8500\n",
      "Epoch 36/200\n",
      "60000/60000 [==============================] - 0s 6us/step - loss: 0.1855 - acc: 0.9235 - val_loss: 0.3201 - val_acc: 0.8491\n",
      "Epoch 37/200\n",
      "60000/60000 [==============================] - 0s 5us/step - loss: 0.1836 - acc: 0.9246 - val_loss: 0.3174 - val_acc: 0.8517\n",
      "Epoch 38/200\n",
      "60000/60000 [==============================] - 0s 5us/step - loss: 0.1817 - acc: 0.9257 - val_loss: 0.3186 - val_acc: 0.8532\n",
      "Epoch 39/200\n",
      "60000/60000 [==============================] - 0s 5us/step - loss: 0.1806 - acc: 0.9245 - val_loss: 0.3205 - val_acc: 0.8533\n",
      "Epoch 40/200\n",
      "60000/60000 [==============================] - 0s 6us/step - loss: 0.1789 - acc: 0.9265 - val_loss: 0.3223 - val_acc: 0.8489\n",
      "Epoch 41/200\n",
      "60000/60000 [==============================] - 0s 5us/step - loss: 0.1772 - acc: 0.9273 - val_loss: 0.3226 - val_acc: 0.8503\n",
      "Epoch 42/200\n",
      "60000/60000 [==============================] - 0s 5us/step - loss: 0.1757 - acc: 0.9279 - val_loss: 0.3222 - val_acc: 0.8513\n",
      "Epoch 43/200\n",
      "60000/60000 [==============================] - 0s 8us/step - loss: 0.1741 - acc: 0.9293 - val_loss: 0.3243 - val_acc: 0.8529\n",
      "Epoch 44/200\n",
      "60000/60000 [==============================] - 0s 5us/step - loss: 0.1719 - acc: 0.9302 - val_loss: 0.3231 - val_acc: 0.8517\n",
      "Epoch 45/200\n",
      "60000/60000 [==============================] - 0s 5us/step - loss: 0.1715 - acc: 0.9290 - val_loss: 0.3246 - val_acc: 0.8532\n",
      "Epoch 46/200\n",
      "60000/60000 [==============================] - 0s 5us/step - loss: 0.1695 - acc: 0.9308 - val_loss: 0.3288 - val_acc: 0.8494\n",
      "Epoch 47/200\n",
      "60000/60000 [==============================] - 0s 5us/step - loss: 0.1682 - acc: 0.9304 - val_loss: 0.3262 - val_acc: 0.8543\n",
      "Epoch 48/200\n",
      "60000/60000 [==============================] - 0s 5us/step - loss: 0.1672 - acc: 0.9312 - val_loss: 0.3296 - val_acc: 0.8527\n",
      "Epoch 49/200\n",
      "60000/60000 [==============================] - 0s 5us/step - loss: 0.1658 - acc: 0.9322 - val_loss: 0.3312 - val_acc: 0.8508\n",
      "Epoch 50/200\n",
      "60000/60000 [==============================] - 0s 5us/step - loss: 0.1644 - acc: 0.9325 - val_loss: 0.3329 - val_acc: 0.8532\n",
      "Epoch 51/200\n",
      "60000/60000 [==============================] - 0s 5us/step - loss: 0.1634 - acc: 0.9335 - val_loss: 0.3314 - val_acc: 0.8510\n",
      "Epoch 52/200\n",
      "60000/60000 [==============================] - 0s 5us/step - loss: 0.1626 - acc: 0.9337 - val_loss: 0.3322 - val_acc: 0.8528\n",
      "Epoch 53/200\n",
      "60000/60000 [==============================] - 0s 7us/step - loss: 0.1602 - acc: 0.9344 - val_loss: 0.3332 - val_acc: 0.8488\n",
      "Epoch 54/200\n",
      "60000/60000 [==============================] - 0s 6us/step - loss: 0.1589 - acc: 0.9357 - val_loss: 0.3327 - val_acc: 0.8526\n",
      "Epoch 55/200\n",
      "60000/60000 [==============================] - 0s 6us/step - loss: 0.1587 - acc: 0.9354 - val_loss: 0.3367 - val_acc: 0.8502\n",
      "Epoch 56/200\n",
      "60000/60000 [==============================] - 0s 5us/step - loss: 0.1578 - acc: 0.9355 - val_loss: 0.3345 - val_acc: 0.8548\n",
      "Epoch 57/200\n",
      "60000/60000 [==============================] - 0s 5us/step - loss: 0.1569 - acc: 0.9362 - val_loss: 0.3376 - val_acc: 0.8524\n",
      "Epoch 58/200\n",
      "60000/60000 [==============================] - 0s 5us/step - loss: 0.1550 - acc: 0.9365 - val_loss: 0.3345 - val_acc: 0.8554\n",
      "Epoch 59/200\n",
      "60000/60000 [==============================] - 0s 5us/step - loss: 0.1542 - acc: 0.9380 - val_loss: 0.3363 - val_acc: 0.8531\n",
      "Epoch 60/200\n"
     ]
    },
    {
     "name": "stdout",
     "output_type": "stream",
     "text": [
      "60000/60000 [==============================] - 0s 6us/step - loss: 0.1533 - acc: 0.9377 - val_loss: 0.3422 - val_acc: 0.8524\n",
      "Epoch 61/200\n",
      "60000/60000 [==============================] - 0s 5us/step - loss: 0.1522 - acc: 0.9375 - val_loss: 0.3441 - val_acc: 0.8539\n",
      "Epoch 62/200\n",
      "60000/60000 [==============================] - 0s 5us/step - loss: 0.1510 - acc: 0.9390 - val_loss: 0.3436 - val_acc: 0.8527\n",
      "Epoch 63/200\n",
      "60000/60000 [==============================] - 0s 6us/step - loss: 0.1497 - acc: 0.9398 - val_loss: 0.3442 - val_acc: 0.8523\n",
      "Epoch 64/200\n",
      "60000/60000 [==============================] - 0s 5us/step - loss: 0.1491 - acc: 0.9400 - val_loss: 0.3470 - val_acc: 0.8528\n",
      "Epoch 65/200\n",
      "60000/60000 [==============================] - 0s 5us/step - loss: 0.1485 - acc: 0.9397 - val_loss: 0.3463 - val_acc: 0.8536\n",
      "Epoch 66/200\n",
      "60000/60000 [==============================] - 0s 5us/step - loss: 0.1484 - acc: 0.9393 - val_loss: 0.3464 - val_acc: 0.8517\n",
      "Epoch 67/200\n",
      "60000/60000 [==============================] - 0s 5us/step - loss: 0.1470 - acc: 0.9410 - val_loss: 0.3460 - val_acc: 0.8513\n",
      "Epoch 68/200\n",
      "60000/60000 [==============================] - 0s 6us/step - loss: 0.1463 - acc: 0.9409 - val_loss: 0.3467 - val_acc: 0.8533\n",
      "Epoch 69/200\n",
      "60000/60000 [==============================] - 0s 6us/step - loss: 0.1453 - acc: 0.9412 - val_loss: 0.3484 - val_acc: 0.8523\n",
      "Epoch 70/200\n",
      "60000/60000 [==============================] - 0s 6us/step - loss: 0.1439 - acc: 0.9426 - val_loss: 0.3523 - val_acc: 0.8526\n",
      "Epoch 71/200\n",
      "60000/60000 [==============================] - 0s 6us/step - loss: 0.1433 - acc: 0.9427 - val_loss: 0.3525 - val_acc: 0.8510\n",
      "Epoch 72/200\n",
      "60000/60000 [==============================] - 0s 5us/step - loss: 0.1424 - acc: 0.9424 - val_loss: 0.3514 - val_acc: 0.8514\n",
      "Epoch 73/200\n",
      "60000/60000 [==============================] - 0s 6us/step - loss: 0.1417 - acc: 0.9431 - val_loss: 0.3539 - val_acc: 0.8533\n",
      "Epoch 74/200\n",
      "60000/60000 [==============================] - 0s 5us/step - loss: 0.1404 - acc: 0.9435 - val_loss: 0.3561 - val_acc: 0.8507\n",
      "Epoch 75/200\n",
      "60000/60000 [==============================] - 0s 5us/step - loss: 0.1400 - acc: 0.9437 - val_loss: 0.3587 - val_acc: 0.8502\n",
      "Epoch 76/200\n",
      "60000/60000 [==============================] - 0s 5us/step - loss: 0.1401 - acc: 0.9440 - val_loss: 0.3582 - val_acc: 0.8522\n",
      "Epoch 77/200\n",
      "60000/60000 [==============================] - 0s 5us/step - loss: 0.1381 - acc: 0.9446 - val_loss: 0.3631 - val_acc: 0.8514\n",
      "Epoch 78/200\n",
      "60000/60000 [==============================] - 0s 6us/step - loss: 0.1381 - acc: 0.9445 - val_loss: 0.3626 - val_acc: 0.8511\n",
      "Epoch 79/200\n",
      "60000/60000 [==============================] - 0s 6us/step - loss: 0.1374 - acc: 0.9441 - val_loss: 0.3613 - val_acc: 0.8489\n",
      "Epoch 80/200\n",
      "60000/60000 [==============================] - 0s 5us/step - loss: 0.1368 - acc: 0.9451 - val_loss: 0.3649 - val_acc: 0.8480\n",
      "Epoch 81/200\n",
      "60000/60000 [==============================] - 0s 5us/step - loss: 0.1354 - acc: 0.9465 - val_loss: 0.3669 - val_acc: 0.8511\n",
      "Epoch 82/200\n",
      "60000/60000 [==============================] - 0s 6us/step - loss: 0.1342 - acc: 0.9460 - val_loss: 0.3661 - val_acc: 0.8489\n",
      "Epoch 83/200\n",
      "60000/60000 [==============================] - 0s 5us/step - loss: 0.1346 - acc: 0.9463 - val_loss: 0.3646 - val_acc: 0.8518\n",
      "Epoch 84/200\n",
      "60000/60000 [==============================] - 0s 5us/step - loss: 0.1324 - acc: 0.9471 - val_loss: 0.3695 - val_acc: 0.8498\n",
      "Epoch 85/200\n",
      "60000/60000 [==============================] - 0s 5us/step - loss: 0.1315 - acc: 0.9479 - val_loss: 0.3700 - val_acc: 0.8513\n",
      "Epoch 86/200\n",
      "60000/60000 [==============================] - 0s 5us/step - loss: 0.1324 - acc: 0.9467 - val_loss: 0.3694 - val_acc: 0.8509\n",
      "Epoch 87/200\n",
      "60000/60000 [==============================] - 0s 7us/step - loss: 0.1317 - acc: 0.9477 - val_loss: 0.3739 - val_acc: 0.8493\n",
      "Epoch 88/200\n",
      "60000/60000 [==============================] - 0s 7us/step - loss: 0.1302 - acc: 0.9490 - val_loss: 0.3755 - val_acc: 0.8520\n",
      "Epoch 89/200\n",
      "60000/60000 [==============================] - 0s 6us/step - loss: 0.1297 - acc: 0.9482 - val_loss: 0.3756 - val_acc: 0.8483\n",
      "Epoch 90/200\n",
      "60000/60000 [==============================] - 0s 5us/step - loss: 0.1291 - acc: 0.9489 - val_loss: 0.3763 - val_acc: 0.8485\n",
      "Epoch 91/200\n",
      "60000/60000 [==============================] - 0s 5us/step - loss: 0.1283 - acc: 0.9492 - val_loss: 0.3775 - val_acc: 0.8512\n",
      "Epoch 92/200\n",
      "60000/60000 [==============================] - 0s 5us/step - loss: 0.1282 - acc: 0.9491 - val_loss: 0.3816 - val_acc: 0.8474\n",
      "Epoch 93/200\n",
      "60000/60000 [==============================] - 0s 5us/step - loss: 0.1273 - acc: 0.9499 - val_loss: 0.3782 - val_acc: 0.8472\n",
      "Epoch 94/200\n",
      "60000/60000 [==============================] - 0s 5us/step - loss: 0.1266 - acc: 0.9497 - val_loss: 0.3808 - val_acc: 0.8504\n",
      "Epoch 95/200\n",
      "60000/60000 [==============================] - 0s 5us/step - loss: 0.1258 - acc: 0.9506 - val_loss: 0.3833 - val_acc: 0.8495\n",
      "Epoch 96/200\n",
      "60000/60000 [==============================] - 0s 5us/step - loss: 0.1256 - acc: 0.9510 - val_loss: 0.3818 - val_acc: 0.8489\n",
      "Epoch 97/200\n",
      "60000/60000 [==============================] - 0s 6us/step - loss: 0.1241 - acc: 0.9508 - val_loss: 0.3867 - val_acc: 0.8495\n",
      "Epoch 98/200\n",
      "60000/60000 [==============================] - 0s 6us/step - loss: 0.1244 - acc: 0.9508 - val_loss: 0.3879 - val_acc: 0.8504\n",
      "Epoch 99/200\n",
      "60000/60000 [==============================] - 0s 6us/step - loss: 0.1243 - acc: 0.9507 - val_loss: 0.3852 - val_acc: 0.8482\n",
      "Epoch 100/200\n",
      "60000/60000 [==============================] - 0s 6us/step - loss: 0.1232 - acc: 0.9522 - val_loss: 0.3868 - val_acc: 0.8513\n",
      "Epoch 101/200\n",
      "60000/60000 [==============================] - 0s 5us/step - loss: 0.1225 - acc: 0.9522 - val_loss: 0.3872 - val_acc: 0.8508\n",
      "Epoch 102/200\n",
      "60000/60000 [==============================] - 0s 7us/step - loss: 0.1232 - acc: 0.9511 - val_loss: 0.3913 - val_acc: 0.8487\n",
      "Epoch 103/200\n",
      "60000/60000 [==============================] - 0s 6us/step - loss: 0.1213 - acc: 0.9523 - val_loss: 0.3886 - val_acc: 0.8501\n",
      "Epoch 104/200\n",
      "60000/60000 [==============================] - 0s 7us/step - loss: 0.1205 - acc: 0.9533 - val_loss: 0.3951 - val_acc: 0.8482\n",
      "Epoch 105/200\n",
      "60000/60000 [==============================] - 0s 7us/step - loss: 0.1198 - acc: 0.9528 - val_loss: 0.3959 - val_acc: 0.8486\n",
      "Epoch 106/200\n",
      "60000/60000 [==============================] - 0s 6us/step - loss: 0.1194 - acc: 0.9538 - val_loss: 0.3950 - val_acc: 0.8486\n",
      "Epoch 107/200\n",
      "60000/60000 [==============================] - 0s 5us/step - loss: 0.1196 - acc: 0.9534 - val_loss: 0.3974 - val_acc: 0.8490\n",
      "Epoch 108/200\n",
      "60000/60000 [==============================] - 0s 5us/step - loss: 0.1190 - acc: 0.9535 - val_loss: 0.3947 - val_acc: 0.8495\n",
      "Epoch 109/200\n",
      "60000/60000 [==============================] - 0s 5us/step - loss: 0.1182 - acc: 0.9537 - val_loss: 0.4000 - val_acc: 0.8481\n",
      "Epoch 110/200\n",
      "60000/60000 [==============================] - 0s 5us/step - loss: 0.1173 - acc: 0.9546 - val_loss: 0.4020 - val_acc: 0.8495\n",
      "Epoch 111/200\n",
      "60000/60000 [==============================] - 0s 5us/step - loss: 0.1168 - acc: 0.9546 - val_loss: 0.4046 - val_acc: 0.8479\n",
      "Epoch 112/200\n",
      "60000/60000 [==============================] - 0s 6us/step - loss: 0.1168 - acc: 0.9544 - val_loss: 0.4027 - val_acc: 0.8480\n",
      "Epoch 113/200\n",
      "60000/60000 [==============================] - 0s 5us/step - loss: 0.1156 - acc: 0.9554 - val_loss: 0.4036 - val_acc: 0.8483\n",
      "Epoch 114/200\n",
      "60000/60000 [==============================] - 0s 5us/step - loss: 0.1150 - acc: 0.9553 - val_loss: 0.4064 - val_acc: 0.8500\n",
      "Epoch 115/200\n",
      "60000/60000 [==============================] - 0s 5us/step - loss: 0.1148 - acc: 0.9555 - val_loss: 0.4098 - val_acc: 0.8473\n",
      "Epoch 116/200\n",
      "60000/60000 [==============================] - 0s 5us/step - loss: 0.1150 - acc: 0.9549 - val_loss: 0.4065 - val_acc: 0.8482\n",
      "Epoch 117/200\n",
      "60000/60000 [==============================] - 0s 5us/step - loss: 0.1143 - acc: 0.9558 - val_loss: 0.4126 - val_acc: 0.8491\n",
      "Epoch 118/200\n",
      "60000/60000 [==============================] - 0s 6us/step - loss: 0.1132 - acc: 0.9561 - val_loss: 0.4115 - val_acc: 0.8502\n",
      "Epoch 119/200\n"
     ]
    },
    {
     "name": "stdout",
     "output_type": "stream",
     "text": [
      "60000/60000 [==============================] - 0s 5us/step - loss: 0.1143 - acc: 0.9557 - val_loss: 0.4095 - val_acc: 0.8487\n",
      "Epoch 120/200\n",
      "60000/60000 [==============================] - 0s 5us/step - loss: 0.1124 - acc: 0.9567 - val_loss: 0.4137 - val_acc: 0.8470\n",
      "Epoch 121/200\n",
      "60000/60000 [==============================] - 0s 5us/step - loss: 0.1121 - acc: 0.9566 - val_loss: 0.4145 - val_acc: 0.8503\n",
      "Epoch 122/200\n",
      "60000/60000 [==============================] - 0s 5us/step - loss: 0.1116 - acc: 0.9572 - val_loss: 0.4150 - val_acc: 0.8484\n",
      "Epoch 123/200\n",
      "60000/60000 [==============================] - 0s 5us/step - loss: 0.1109 - acc: 0.9572 - val_loss: 0.4178 - val_acc: 0.8480\n",
      "Epoch 124/200\n",
      "60000/60000 [==============================] - 0s 5us/step - loss: 0.1105 - acc: 0.9568 - val_loss: 0.4159 - val_acc: 0.8477\n",
      "Epoch 125/200\n",
      "60000/60000 [==============================] - 0s 5us/step - loss: 0.1103 - acc: 0.9580 - val_loss: 0.4199 - val_acc: 0.8481\n",
      "Epoch 126/200\n",
      "60000/60000 [==============================] - 0s 7us/step - loss: 0.1092 - acc: 0.9584 - val_loss: 0.4176 - val_acc: 0.8496\n",
      "Epoch 127/200\n",
      "60000/60000 [==============================] - 0s 6us/step - loss: 0.1089 - acc: 0.9579 - val_loss: 0.4208 - val_acc: 0.8490\n",
      "Epoch 128/200\n",
      "60000/60000 [==============================] - 0s 5us/step - loss: 0.1087 - acc: 0.9587 - val_loss: 0.4249 - val_acc: 0.8477\n",
      "Epoch 129/200\n",
      "60000/60000 [==============================] - 0s 8us/step - loss: 0.1082 - acc: 0.9580 - val_loss: 0.4228 - val_acc: 0.8476\n",
      "Epoch 130/200\n",
      "60000/60000 [==============================] - 0s 5us/step - loss: 0.1079 - acc: 0.9585 - val_loss: 0.4262 - val_acc: 0.8491\n",
      "Epoch 131/200\n",
      "60000/60000 [==============================] - 0s 5us/step - loss: 0.1072 - acc: 0.9590 - val_loss: 0.4313 - val_acc: 0.8454\n",
      "Epoch 132/200\n",
      "60000/60000 [==============================] - 0s 6us/step - loss: 0.1071 - acc: 0.9596 - val_loss: 0.4279 - val_acc: 0.8491\n",
      "Epoch 133/200\n",
      "60000/60000 [==============================] - 0s 5us/step - loss: 0.1065 - acc: 0.9588 - val_loss: 0.4296 - val_acc: 0.8481\n",
      "Epoch 134/200\n",
      "60000/60000 [==============================] - 0s 5us/step - loss: 0.1063 - acc: 0.9592 - val_loss: 0.4309 - val_acc: 0.8479\n",
      "Epoch 135/200\n",
      "60000/60000 [==============================] - 0s 5us/step - loss: 0.1058 - acc: 0.9597 - val_loss: 0.4346 - val_acc: 0.8414\n",
      "Epoch 136/200\n",
      "60000/60000 [==============================] - 0s 5us/step - loss: 0.1055 - acc: 0.9603 - val_loss: 0.4306 - val_acc: 0.8452\n",
      "Epoch 137/200\n",
      "60000/60000 [==============================] - 0s 5us/step - loss: 0.1051 - acc: 0.9598 - val_loss: 0.4310 - val_acc: 0.8454\n",
      "Epoch 138/200\n",
      "60000/60000 [==============================] - 0s 5us/step - loss: 0.1040 - acc: 0.9609 - val_loss: 0.4354 - val_acc: 0.8465\n",
      "Epoch 139/200\n",
      "60000/60000 [==============================] - 0s 5us/step - loss: 0.1034 - acc: 0.9610 - val_loss: 0.4347 - val_acc: 0.8478\n",
      "Epoch 140/200\n",
      "60000/60000 [==============================] - 0s 5us/step - loss: 0.1039 - acc: 0.9600 - val_loss: 0.4415 - val_acc: 0.8483\n",
      "Epoch 141/200\n",
      "60000/60000 [==============================] - 0s 5us/step - loss: 0.1030 - acc: 0.9615 - val_loss: 0.4410 - val_acc: 0.8484\n",
      "Epoch 142/200\n",
      "60000/60000 [==============================] - 0s 6us/step - loss: 0.1029 - acc: 0.9607 - val_loss: 0.4404 - val_acc: 0.8494\n",
      "Epoch 143/200\n",
      "60000/60000 [==============================] - 0s 5us/step - loss: 0.1022 - acc: 0.9615 - val_loss: 0.4384 - val_acc: 0.8502\n",
      "Epoch 144/200\n",
      "60000/60000 [==============================] - 0s 5us/step - loss: 0.1017 - acc: 0.9610 - val_loss: 0.4423 - val_acc: 0.8471\n",
      "Epoch 145/200\n",
      "60000/60000 [==============================] - 0s 5us/step - loss: 0.1013 - acc: 0.9613 - val_loss: 0.4462 - val_acc: 0.8459\n",
      "Epoch 146/200\n",
      "60000/60000 [==============================] - 0s 5us/step - loss: 0.1009 - acc: 0.9621 - val_loss: 0.4436 - val_acc: 0.8482\n",
      "Epoch 147/200\n",
      "60000/60000 [==============================] - 0s 5us/step - loss: 0.1006 - acc: 0.9621 - val_loss: 0.4480 - val_acc: 0.8457\n",
      "Epoch 148/200\n",
      "60000/60000 [==============================] - 0s 5us/step - loss: 0.0996 - acc: 0.9628 - val_loss: 0.4513 - val_acc: 0.8471\n",
      "Epoch 149/200\n",
      "60000/60000 [==============================] - 0s 5us/step - loss: 0.1001 - acc: 0.9615 - val_loss: 0.4489 - val_acc: 0.8463\n",
      "Epoch 150/200\n",
      "60000/60000 [==============================] - 0s 5us/step - loss: 0.0990 - acc: 0.9632 - val_loss: 0.4532 - val_acc: 0.8491\n",
      "Epoch 151/200\n",
      "60000/60000 [==============================] - 0s 5us/step - loss: 0.0985 - acc: 0.9623 - val_loss: 0.4508 - val_acc: 0.8476\n",
      "Epoch 152/200\n",
      "60000/60000 [==============================] - 0s 6us/step - loss: 0.0989 - acc: 0.9622 - val_loss: 0.4518 - val_acc: 0.8477\n",
      "Epoch 153/200\n",
      "60000/60000 [==============================] - 0s 5us/step - loss: 0.0980 - acc: 0.9627 - val_loss: 0.4503 - val_acc: 0.8468\n",
      "Epoch 154/200\n",
      "60000/60000 [==============================] - 0s 5us/step - loss: 0.0977 - acc: 0.9633 - val_loss: 0.4564 - val_acc: 0.8439\n",
      "Epoch 155/200\n",
      "60000/60000 [==============================] - 0s 5us/step - loss: 0.0978 - acc: 0.9631 - val_loss: 0.4533 - val_acc: 0.8458\n",
      "Epoch 156/200\n",
      "60000/60000 [==============================] - 0s 5us/step - loss: 0.0964 - acc: 0.9646 - val_loss: 0.4549 - val_acc: 0.8441\n",
      "Epoch 157/200\n",
      "60000/60000 [==============================] - 0s 5us/step - loss: 0.0971 - acc: 0.9642 - val_loss: 0.4537 - val_acc: 0.8461\n",
      "Epoch 158/200\n",
      "60000/60000 [==============================] - 0s 5us/step - loss: 0.0959 - acc: 0.9633 - val_loss: 0.4581 - val_acc: 0.8457\n",
      "Epoch 159/200\n",
      "60000/60000 [==============================] - 0s 5us/step - loss: 0.0964 - acc: 0.9639 - val_loss: 0.4619 - val_acc: 0.8482\n",
      "Epoch 160/200\n",
      "60000/60000 [==============================] - 0s 5us/step - loss: 0.0953 - acc: 0.9640 - val_loss: 0.4627 - val_acc: 0.8481\n",
      "Epoch 161/200\n",
      "60000/60000 [==============================] - 0s 5us/step - loss: 0.0952 - acc: 0.9644 - val_loss: 0.4628 - val_acc: 0.8447\n",
      "Epoch 162/200\n",
      "60000/60000 [==============================] - 0s 5us/step - loss: 0.0955 - acc: 0.9632 - val_loss: 0.4615 - val_acc: 0.8459\n",
      "Epoch 163/200\n",
      "60000/60000 [==============================] - 0s 5us/step - loss: 0.0937 - acc: 0.9650 - val_loss: 0.4654 - val_acc: 0.8478\n",
      "Epoch 164/200\n",
      "60000/60000 [==============================] - 0s 5us/step - loss: 0.0941 - acc: 0.9650 - val_loss: 0.4677 - val_acc: 0.8471\n",
      "Epoch 165/200\n",
      "60000/60000 [==============================] - 0s 5us/step - loss: 0.0935 - acc: 0.9660 - val_loss: 0.4668 - val_acc: 0.8460\n",
      "Epoch 166/200\n",
      "60000/60000 [==============================] - 0s 5us/step - loss: 0.0934 - acc: 0.9650 - val_loss: 0.4699 - val_acc: 0.8486\n",
      "Epoch 167/200\n",
      "60000/60000 [==============================] - 0s 5us/step - loss: 0.0923 - acc: 0.9658 - val_loss: 0.4708 - val_acc: 0.8475\n",
      "Epoch 168/200\n",
      "60000/60000 [==============================] - 0s 5us/step - loss: 0.0922 - acc: 0.9663 - val_loss: 0.4735 - val_acc: 0.8471\n",
      "Epoch 169/200\n",
      "60000/60000 [==============================] - 0s 7us/step - loss: 0.0921 - acc: 0.9659 - val_loss: 0.4720 - val_acc: 0.8455\n",
      "Epoch 170/200\n",
      "60000/60000 [==============================] - 0s 6us/step - loss: 0.0912 - acc: 0.9662 - val_loss: 0.4743 - val_acc: 0.8455\n",
      "Epoch 171/200\n",
      "60000/60000 [==============================] - 0s 6us/step - loss: 0.0916 - acc: 0.9661 - val_loss: 0.4743 - val_acc: 0.8473\n",
      "Epoch 172/200\n",
      "60000/60000 [==============================] - 0s 5us/step - loss: 0.0911 - acc: 0.9664 - val_loss: 0.4775 - val_acc: 0.8476\n",
      "Epoch 173/200\n",
      "60000/60000 [==============================] - 0s 6us/step - loss: 0.0903 - acc: 0.9669 - val_loss: 0.4803 - val_acc: 0.8473\n",
      "Epoch 174/200\n",
      "60000/60000 [==============================] - 0s 5us/step - loss: 0.0904 - acc: 0.9669 - val_loss: 0.4796 - val_acc: 0.8428\n",
      "Epoch 175/200\n",
      "60000/60000 [==============================] - 0s 8us/step - loss: 0.0899 - acc: 0.9665 - val_loss: 0.4797 - val_acc: 0.8462\n",
      "Epoch 176/200\n",
      "60000/60000 [==============================] - 1s 9us/step - loss: 0.0892 - acc: 0.9677 - val_loss: 0.4816 - val_acc: 0.8462\n",
      "Epoch 177/200\n",
      "60000/60000 [==============================] - 0s 7us/step - loss: 0.0894 - acc: 0.9666 - val_loss: 0.4857 - val_acc: 0.8482\n",
      "Epoch 178/200\n"
     ]
    },
    {
     "name": "stdout",
     "output_type": "stream",
     "text": [
      "60000/60000 [==============================] - 1s 9us/step - loss: 0.0891 - acc: 0.9672 - val_loss: 0.4898 - val_acc: 0.8408\n",
      "Epoch 179/200\n",
      "60000/60000 [==============================] - 0s 8us/step - loss: 0.0884 - acc: 0.9680 - val_loss: 0.4901 - val_acc: 0.8467\n",
      "Epoch 180/200\n",
      "60000/60000 [==============================] - 0s 7us/step - loss: 0.0888 - acc: 0.9668 - val_loss: 0.4859 - val_acc: 0.8466\n",
      "Epoch 181/200\n",
      "60000/60000 [==============================] - 1s 10us/step - loss: 0.0883 - acc: 0.9675 - val_loss: 0.4871 - val_acc: 0.8472\n",
      "Epoch 182/200\n",
      "60000/60000 [==============================] - 1s 9us/step - loss: 0.0876 - acc: 0.9675 - val_loss: 0.4856 - val_acc: 0.8437\n",
      "Epoch 183/200\n",
      "60000/60000 [==============================] - 1s 9us/step - loss: 0.0877 - acc: 0.9679 - val_loss: 0.4907 - val_acc: 0.8450\n",
      "Epoch 184/200\n",
      "60000/60000 [==============================] - 0s 6us/step - loss: 0.0871 - acc: 0.9682 - val_loss: 0.4929 - val_acc: 0.8459\n",
      "Epoch 185/200\n",
      "60000/60000 [==============================] - 0s 6us/step - loss: 0.0870 - acc: 0.9687 - val_loss: 0.4920 - val_acc: 0.8467\n",
      "Epoch 186/200\n",
      "60000/60000 [==============================] - 0s 5us/step - loss: 0.0862 - acc: 0.9692 - val_loss: 0.4968 - val_acc: 0.8484\n",
      "Epoch 187/200\n",
      "60000/60000 [==============================] - 0s 6us/step - loss: 0.0866 - acc: 0.9685 - val_loss: 0.4958 - val_acc: 0.8445\n",
      "Epoch 188/200\n",
      "60000/60000 [==============================] - 0s 5us/step - loss: 0.0855 - acc: 0.9694 - val_loss: 0.5026 - val_acc: 0.8461\n",
      "Epoch 189/200\n",
      "60000/60000 [==============================] - 0s 5us/step - loss: 0.0854 - acc: 0.9686 - val_loss: 0.4995 - val_acc: 0.8438\n",
      "Epoch 190/200\n",
      "60000/60000 [==============================] - 0s 5us/step - loss: 0.0853 - acc: 0.9689 - val_loss: 0.5048 - val_acc: 0.8448\n",
      "Epoch 191/200\n",
      "60000/60000 [==============================] - 0s 5us/step - loss: 0.0852 - acc: 0.9689 - val_loss: 0.5020 - val_acc: 0.8440\n",
      "Epoch 192/200\n",
      "60000/60000 [==============================] - 0s 5us/step - loss: 0.0855 - acc: 0.9693 - val_loss: 0.5016 - val_acc: 0.8458\n",
      "Epoch 193/200\n",
      "60000/60000 [==============================] - 0s 5us/step - loss: 0.0843 - acc: 0.9694 - val_loss: 0.5046 - val_acc: 0.8441\n",
      "Epoch 194/200\n",
      "60000/60000 [==============================] - 0s 6us/step - loss: 0.0838 - acc: 0.9701 - val_loss: 0.5024 - val_acc: 0.8428\n",
      "Epoch 195/200\n",
      "60000/60000 [==============================] - 0s 6us/step - loss: 0.0834 - acc: 0.9698 - val_loss: 0.5020 - val_acc: 0.8468\n",
      "Epoch 196/200\n",
      "60000/60000 [==============================] - 0s 5us/step - loss: 0.0834 - acc: 0.9700 - val_loss: 0.5069 - val_acc: 0.8432\n",
      "Epoch 197/200\n",
      "60000/60000 [==============================] - 0s 6us/step - loss: 0.0830 - acc: 0.9703 - val_loss: 0.5069 - val_acc: 0.8434\n",
      "Epoch 198/200\n",
      "60000/60000 [==============================] - 0s 5us/step - loss: 0.0828 - acc: 0.9699 - val_loss: 0.5094 - val_acc: 0.8433\n",
      "Epoch 199/200\n",
      "60000/60000 [==============================] - 0s 7us/step - loss: 0.0822 - acc: 0.9698 - val_loss: 0.5116 - val_acc: 0.8427\n",
      "Epoch 200/200\n",
      "60000/60000 [==============================] - 0s 6us/step - loss: 0.0818 - acc: 0.9702 - val_loss: 0.5103 - val_acc: 0.8430\n"
     ]
    }
   ],
   "source": [
    "model = keras.Sequential([\n",
    "    #keras.layers.Flatten(input_shape=(28, 28)),\n",
    "    keras.layers.Flatten(input_shape=(10, 10)),\n",
    "    keras.layers.Dense(128, activation=tf.nn.relu),\n",
    "    #keras.layers.Dense(10, activation=tf.nn.softmax)\n",
    "    keras.layers.Dense(2, activation=tf.nn.softmax)\n",
    "])\n",
    "model.compile(optimizer=keras.optimizers.Adam(), \n",
    "              loss='sparse_categorical_crossentropy',\n",
    "              metrics=['accuracy'])\n",
    "history=model.fit(train_images, train_labels, epochs=200, batch_size=512, validation_data=(val_images, val_labels))\n",
    "history_dict = history.history"
   ]
  },
  {
   "cell_type": "code",
   "execution_count": 29,
   "metadata": {},
   "outputs": [
    {
     "data": {
      "image/png": "[encoded data removed]",
      "text/plain": [
       "<Figure size 432x288 with 1 Axes>"
      ]
     },
     "metadata": {},
     "output_type": "display_data"
    }
   ],
   "source": [
    "acc = history.history['acc']\n",
    "val_acc = history.history['val_acc']\n",
    "loss = history.history['loss']\n",
    "val_loss = history.history['val_loss']\n",
    "\n",
    "epochs = range(1, len(acc) + 1)\n",
    "\n",
    "plt.plot(epochs, loss, 'bo-', mfc='None', label='Training loss')\n",
    "plt.plot(epochs, val_loss, 'ro-', mfc='None', label='Validation loss')\n",
    "plt.title('Training and validation loss')\n",
    "plt.xlabel('Epochs')\n",
    "plt.ylabel('Loss')\n",
    "plt.legend()\n",
    "\n",
    "plt.show()"
   ]
  },
  {
   "cell_type": "code",
   "execution_count": 30,
   "metadata": {},
   "outputs": [
    {
     "data": {
      "image/png": "[encoded data removed]",
      "text/plain": [
       "<Figure size 432x288 with 1 Axes>"
      ]
     },
     "metadata": {},
     "output_type": "display_data"
    }
   ],
   "source": [
    "acc = history.history['acc']\n",
    "val_acc = history.history['val_acc']\n",
    "loss = history.history['loss']\n",
    "val_loss = history.history['val_loss']\n",
    "\n",
    "epochs = range(1, len(acc) + 1)\n",
    "\n",
    "plt.plot(epochs, loss, 'bo-', mfc='White', label='Training loss')\n",
    "plt.plot(epochs, val_loss, 'ro-', mfc='White', label='Validation loss')\n",
    "plt.title('Training and validation loss')\n",
    "plt.xlabel('Epochs')\n",
    "plt.ylabel('Loss')\n",
    "plt.legend()\n",
    "\n",
    "plt.savefig('figs/Loss1.svg')"
   ]
  },
  {
   "cell_type": "code",
   "execution_count": 31,
   "metadata": {
    "scrolled": false
   },
   "outputs": [
    {
     "data": {
      "image/png": "[encoded data removed]",
      "text/plain": [
       "<Figure size 432x288 with 1 Axes>"
      ]
     },
     "metadata": {},
     "output_type": "display_data"
    }
   ],
   "source": [
    "acc_values = history_dict['acc']\n",
    "val_acc_values = history_dict['val_acc']\n",
    "\n",
    "plt.plot(epochs, acc, 'bo-', mfc='None', label='Training acc')\n",
    "plt.plot(epochs, val_acc, 'ro-', mfc='None', label='Validation acc')\n",
    "plt.title('Training and validation accuracy')\n",
    "plt.xlabel('Epochs')\n",
    "plt.ylabel('Accuracy')\n",
    "plt.legend()\n",
    "\n",
    "plt.show()"
   ]
  },
  {
   "cell_type": "code",
   "execution_count": 32,
   "metadata": {},
   "outputs": [
    {
     "data": {
      "image/png": "[encoded data removed]",
      "text/plain": [
       "<Figure size 432x288 with 1 Axes>"
      ]
     },
     "metadata": {},
     "output_type": "display_data"
    }
   ],
   "source": [
    "acc_values = history_dict['acc']\n",
    "val_acc_values = history_dict['val_acc']\n",
    "\n",
    "plt.plot(epochs, acc, 'bo-', mfc='White', label='Training acc')\n",
    "plt.plot(epochs, val_acc, 'ro-', mfc='White', label='Validation acc')\n",
    "plt.title('Training and validation accuracy')\n",
    "plt.xlabel('Epochs')\n",
    "plt.ylabel('Accuracy')\n",
    "plt.legend()\n",
    "\n",
    "plt.savefig('figs/Acc1.svg')"
   ]
  },
  {
   "cell_type": "code",
   "execution_count": 33,
   "metadata": {},
   "outputs": [
    {
     "name": "stdout",
     "output_type": "stream",
     "text": [
      "_________________________________________________________________\n",
      "Layer (type)                 Output Shape              Param #   \n",
      "=================================================================\n",
      "flatten_2 (Flatten)          (None, 100)               0         \n",
      "_________________________________________________________________\n",
      "dense_4 (Dense)              (None, 128)               12928     \n",
      "_________________________________________________________________\n",
      "dense_5 (Dense)              (None, 2)                 258       \n",
      "=================================================================\n",
      "Total params: 13,186\n",
      "Trainable params: 13,186\n",
      "Non-trainable params: 0\n",
      "_________________________________________________________________\n"
     ]
    }
   ],
   "source": [
    "model.summary()"
   ]
  },
  {
   "cell_type": "code",
   "execution_count": 34,
   "metadata": {},
   "outputs": [],
   "source": [
    "#model.save_weights('checkpoints/overfitting')"
   ]
  },
  {
   "cell_type": "code",
   "execution_count": 35,
   "metadata": {},
   "outputs": [],
   "source": [
    "#model.save('overfitting.h5')"
   ]
  },
  {
   "cell_type": "code",
   "execution_count": 41,
   "metadata": {
    "scrolled": true
   },
   "outputs": [
    {
     "name": "stdout",
     "output_type": "stream",
     "text": [
      "Train on 60000 samples, validate on 10000 samples\n",
      "Epoch 1/70\n",
      "60000/60000 [==============================] - 1s 15us/step - loss: 0.6363 - acc: 0.6646 - val_loss: 0.6315 - val_acc: 0.6642\n",
      "\n",
      "Epoch 00001: val_loss improved from inf to 0.63153, saving model to checkpoints/findOptimalBin\n",
      "Epoch 2/70\n",
      "60000/60000 [==============================] - 1s 11us/step - loss: 0.6188 - acc: 0.6662 - val_loss: 0.6137 - val_acc: 0.6673\n",
      "\n",
      "Epoch 00002: val_loss improved from 0.63153 to 0.61372, saving model to checkpoints/findOptimalBin\n",
      "Epoch 3/70\n",
      "60000/60000 [==============================] - 0s 6us/step - loss: 0.5862 - acc: 0.6807 - val_loss: 0.5736 - val_acc: 0.6932\n",
      "\n",
      "Epoch 00003: val_loss improved from 0.61372 to 0.57360, saving model to checkpoints/findOptimalBin\n",
      "Epoch 4/70\n",
      "60000/60000 [==============================] - 1s 13us/step - loss: 0.5331 - acc: 0.7336 - val_loss: 0.5239 - val_acc: 0.7509\n",
      "\n",
      "Epoch 00004: val_loss improved from 0.57360 to 0.52392, saving model to checkpoints/findOptimalBin\n",
      "Epoch 5/70\n",
      "60000/60000 [==============================] - 0s 6us/step - loss: 0.4777 - acc: 0.7896 - val_loss: 0.4787 - val_acc: 0.7876\n",
      "\n",
      "Epoch 00005: val_loss improved from 0.52392 to 0.47866, saving model to checkpoints/findOptimalBin\n",
      "Epoch 6/70\n",
      "60000/60000 [==============================] - 0s 7us/step - loss: 0.4308 - acc: 0.8232 - val_loss: 0.4438 - val_acc: 0.8093\n",
      "\n",
      "Epoch 00006: val_loss improved from 0.47866 to 0.44384, saving model to checkpoints/findOptimalBin\n",
      "Epoch 7/70\n",
      "60000/60000 [==============================] - 0s 8us/step - loss: 0.3955 - acc: 0.8417 - val_loss: 0.4203 - val_acc: 0.8180\n",
      "\n",
      "Epoch 00007: val_loss improved from 0.44384 to 0.42030, saving model to checkpoints/findOptimalBin\n",
      "Epoch 8/70\n",
      "60000/60000 [==============================] - 1s 21us/step - loss: 0.3672 - acc: 0.8536 - val_loss: 0.3985 - val_acc: 0.8240\n",
      "\n",
      "Epoch 00008: val_loss improved from 0.42030 to 0.39853, saving model to checkpoints/findOptimalBin\n",
      "Epoch 9/70\n",
      "60000/60000 [==============================] - 0s 7us/step - loss: 0.3444 - acc: 0.8631 - val_loss: 0.3825 - val_acc: 0.8271\n",
      "\n",
      "Epoch 00009: val_loss improved from 0.39853 to 0.38249, saving model to checkpoints/findOptimalBin\n",
      "Epoch 10/70\n",
      "60000/60000 [==============================] - 1s 11us/step - loss: 0.3258 - acc: 0.8688 - val_loss: 0.3696 - val_acc: 0.8337\n",
      "\n",
      "Epoch 00010: val_loss improved from 0.38249 to 0.36957, saving model to checkpoints/findOptimalBin\n",
      "Epoch 11/70\n",
      "60000/60000 [==============================] - 0s 6us/step - loss: 0.3093 - acc: 0.8748 - val_loss: 0.3601 - val_acc: 0.8342\n",
      "\n",
      "Epoch 00011: val_loss improved from 0.36957 to 0.36008, saving model to checkpoints/findOptimalBin\n",
      "Epoch 12/70\n",
      "60000/60000 [==============================] - 1s 15us/step - loss: 0.2960 - acc: 0.8797 - val_loss: 0.3533 - val_acc: 0.8366\n",
      "\n",
      "Epoch 00012: val_loss improved from 0.36008 to 0.35334, saving model to checkpoints/findOptimalBin\n",
      "Epoch 13/70\n",
      "60000/60000 [==============================] - 0s 7us/step - loss: 0.2851 - acc: 0.8834 - val_loss: 0.3453 - val_acc: 0.8356\n",
      "\n",
      "Epoch 00013: val_loss improved from 0.35334 to 0.34528, saving model to checkpoints/findOptimalBin\n",
      "Epoch 14/70\n",
      "60000/60000 [==============================] - 0s 7us/step - loss: 0.2748 - acc: 0.8870 - val_loss: 0.3404 - val_acc: 0.8384\n",
      "\n",
      "Epoch 00014: val_loss improved from 0.34528 to 0.34036, saving model to checkpoints/findOptimalBin\n",
      "Epoch 15/70\n",
      "60000/60000 [==============================] - 0s 6us/step - loss: 0.2657 - acc: 0.8906 - val_loss: 0.3385 - val_acc: 0.8397\n",
      "\n",
      "Epoch 00015: val_loss improved from 0.34036 to 0.33845, saving model to checkpoints/findOptimalBin\n",
      "Epoch 16/70\n",
      "60000/60000 [==============================] - 0s 6us/step - loss: 0.2589 - acc: 0.8936 - val_loss: 0.3334 - val_acc: 0.8426\n",
      "\n",
      "Epoch 00016: val_loss improved from 0.33845 to 0.33338, saving model to checkpoints/findOptimalBin\n",
      "Epoch 17/70\n",
      "60000/60000 [==============================] - 1s 11us/step - loss: 0.2518 - acc: 0.8958 - val_loss: 0.3321 - val_acc: 0.8416\n",
      "\n",
      "Epoch 00017: val_loss improved from 0.33338 to 0.33214, saving model to checkpoints/findOptimalBin\n",
      "Epoch 18/70\n",
      "60000/60000 [==============================] - 0s 7us/step - loss: 0.2461 - acc: 0.8983 - val_loss: 0.3283 - val_acc: 0.8441\n",
      "\n",
      "Epoch 00018: val_loss improved from 0.33214 to 0.32829, saving model to checkpoints/findOptimalBin\n",
      "Epoch 19/70\n",
      "60000/60000 [==============================] - 1s 19us/step - loss: 0.2409 - acc: 0.8999 - val_loss: 0.3278 - val_acc: 0.8395\n",
      "\n",
      "Epoch 00019: val_loss improved from 0.32829 to 0.32775, saving model to checkpoints/findOptimalBin\n",
      "Epoch 20/70\n",
      "60000/60000 [==============================] - 1s 9us/step - loss: 0.2355 - acc: 0.9014 - val_loss: 0.3258 - val_acc: 0.8430\n",
      "\n",
      "Epoch 00020: val_loss improved from 0.32775 to 0.32576, saving model to checkpoints/findOptimalBin\n",
      "Epoch 21/70\n",
      "60000/60000 [==============================] - 1s 14us/step - loss: 0.2310 - acc: 0.9037 - val_loss: 0.3245 - val_acc: 0.8426\n",
      "\n",
      "Epoch 00021: val_loss improved from 0.32576 to 0.32449, saving model to checkpoints/findOptimalBin\n",
      "Epoch 22/70\n",
      "60000/60000 [==============================] - 1s 10us/step - loss: 0.2268 - acc: 0.9049 - val_loss: 0.3215 - val_acc: 0.8465\n",
      "\n",
      "Epoch 00022: val_loss improved from 0.32449 to 0.32155, saving model to checkpoints/findOptimalBin\n",
      "Epoch 23/70\n",
      "60000/60000 [==============================] - 1s 9us/step - loss: 0.2228 - acc: 0.9070 - val_loss: 0.3240 - val_acc: 0.8442\n",
      "\n",
      "Epoch 00023: val_loss did not improve from 0.32155\n",
      "Epoch 24/70\n",
      "60000/60000 [==============================] - 0s 7us/step - loss: 0.2197 - acc: 0.9072 - val_loss: 0.3223 - val_acc: 0.8461\n",
      "\n",
      "Epoch 00024: val_loss did not improve from 0.32155\n",
      "Epoch 25/70\n",
      "60000/60000 [==============================] - 0s 8us/step - loss: 0.2160 - acc: 0.9104 - val_loss: 0.3247 - val_acc: 0.8439\n",
      "\n",
      "Epoch 00025: val_loss did not improve from 0.32155\n",
      "Epoch 26/70\n",
      "60000/60000 [==============================] - 0s 5us/step - loss: 0.2138 - acc: 0.9114 - val_loss: 0.3259 - val_acc: 0.8442\n",
      "\n",
      "Epoch 00026: val_loss did not improve from 0.32155\n",
      "Epoch 27/70\n",
      "60000/60000 [==============================] - 0s 5us/step - loss: 0.2102 - acc: 0.9128 - val_loss: 0.3220 - val_acc: 0.8454\n",
      "\n",
      "Epoch 00027: val_loss did not improve from 0.32155\n",
      "Epoch 28/70\n",
      "60000/60000 [==============================] - 0s 5us/step - loss: 0.2074 - acc: 0.9137 - val_loss: 0.3233 - val_acc: 0.8449\n",
      "\n",
      "Epoch 00028: val_loss did not improve from 0.32155\n",
      "Epoch 29/70\n",
      "60000/60000 [==============================] - 0s 7us/step - loss: 0.2047 - acc: 0.9141 - val_loss: 0.3232 - val_acc: 0.8439\n",
      "\n",
      "Epoch 00029: val_loss did not improve from 0.32155\n",
      "Epoch 30/70\n",
      "60000/60000 [==============================] - 0s 7us/step - loss: 0.2018 - acc: 0.9166 - val_loss: 0.3241 - val_acc: 0.8444\n",
      "\n",
      "Epoch 00030: val_loss did not improve from 0.32155\n",
      "Epoch 31/70\n",
      "60000/60000 [==============================] - 0s 6us/step - loss: 0.1998 - acc: 0.9169 - val_loss: 0.3245 - val_acc: 0.8467\n",
      "\n",
      "Epoch 00031: val_loss did not improve from 0.32155\n",
      "Epoch 32/70\n",
      "60000/60000 [==============================] - 0s 6us/step - loss: 0.1978 - acc: 0.9177 - val_loss: 0.3249 - val_acc: 0.8467\n",
      "\n",
      "Epoch 00032: val_loss did not improve from 0.32155\n",
      "Epoch 33/70\n",
      "60000/60000 [==============================] - 0s 6us/step - loss: 0.1942 - acc: 0.9196 - val_loss: 0.3256 - val_acc: 0.8476\n",
      "\n",
      "Epoch 00033: val_loss did not improve from 0.32155\n",
      "Epoch 34/70\n",
      "60000/60000 [==============================] - 0s 5us/step - loss: 0.1929 - acc: 0.9195 - val_loss: 0.3282 - val_acc: 0.8436\n",
      "\n",
      "Epoch 00034: val_loss did not improve from 0.32155\n",
      "Epoch 35/70\n",
      "60000/60000 [==============================] - 0s 5us/step - loss: 0.1913 - acc: 0.9214 - val_loss: 0.3302 - val_acc: 0.8477\n",
      "\n",
      "Epoch 00035: val_loss did not improve from 0.32155\n",
      "Epoch 36/70\n",
      "60000/60000 [==============================] - 0s 5us/step - loss: 0.1891 - acc: 0.9217 - val_loss: 0.3292 - val_acc: 0.8467\n",
      "\n",
      "Epoch 00036: val_loss did not improve from 0.32155\n",
      "Epoch 37/70\n",
      "60000/60000 [==============================] - 0s 8us/step - loss: 0.1879 - acc: 0.9216 - val_loss: 0.3294 - val_acc: 0.8440\n",
      "\n",
      "Epoch 00037: val_loss did not improve from 0.32155\n",
      "Epoch 38/70\n",
      "60000/60000 [==============================] - 0s 8us/step - loss: 0.1852 - acc: 0.9235 - val_loss: 0.3377 - val_acc: 0.8491\n"
     ]
    },
    {
     "name": "stdout",
     "output_type": "stream",
     "text": [
      "\n",
      "Epoch 00038: val_loss did not improve from 0.32155\n",
      "Epoch 39/70\n",
      "60000/60000 [==============================] - 0s 8us/step - loss: 0.1834 - acc: 0.9246 - val_loss: 0.3311 - val_acc: 0.8462\n",
      "\n",
      "Epoch 00039: val_loss did not improve from 0.32155\n",
      "Epoch 40/70\n",
      "60000/60000 [==============================] - 0s 5us/step - loss: 0.1809 - acc: 0.9260 - val_loss: 0.3300 - val_acc: 0.8462\n",
      "\n",
      "Epoch 00040: val_loss did not improve from 0.32155\n",
      "Epoch 41/70\n",
      "60000/60000 [==============================] - 0s 8us/step - loss: 0.1806 - acc: 0.9258 - val_loss: 0.3328 - val_acc: 0.8452\n",
      "\n",
      "Epoch 00041: val_loss did not improve from 0.32155\n",
      "Epoch 42/70\n",
      "60000/60000 [==============================] - 0s 6us/step - loss: 0.1783 - acc: 0.9269 - val_loss: 0.3354 - val_acc: 0.8440\n",
      "\n",
      "Epoch 00042: val_loss did not improve from 0.32155\n",
      "Epoch 43/70\n",
      "60000/60000 [==============================] - 1s 10us/step - loss: 0.1767 - acc: 0.9280 - val_loss: 0.3367 - val_acc: 0.8448\n",
      "\n",
      "Epoch 00043: val_loss did not improve from 0.32155\n",
      "Epoch 44/70\n",
      "60000/60000 [==============================] - 1s 9us/step - loss: 0.1759 - acc: 0.9271 - val_loss: 0.3358 - val_acc: 0.8470\n",
      "\n",
      "Epoch 00044: val_loss did not improve from 0.32155\n",
      "Epoch 45/70\n",
      "60000/60000 [==============================] - 0s 8us/step - loss: 0.1737 - acc: 0.9294 - val_loss: 0.3405 - val_acc: 0.8466\n",
      "\n",
      "Epoch 00045: val_loss did not improve from 0.32155\n",
      "Epoch 46/70\n",
      "60000/60000 [==============================] - 0s 8us/step - loss: 0.1721 - acc: 0.9299 - val_loss: 0.3424 - val_acc: 0.8488\n",
      "\n",
      "Epoch 00046: val_loss did not improve from 0.32155\n",
      "Epoch 47/70\n",
      "60000/60000 [==============================] - 1s 10us/step - loss: 0.1712 - acc: 0.9300 - val_loss: 0.3380 - val_acc: 0.8460\n",
      "\n",
      "Epoch 00047: val_loss did not improve from 0.32155\n",
      "Epoch 48/70\n",
      "60000/60000 [==============================] - 0s 6us/step - loss: 0.1703 - acc: 0.9305 - val_loss: 0.3387 - val_acc: 0.8476\n",
      "\n",
      "Epoch 00048: val_loss did not improve from 0.32155\n",
      "Epoch 49/70\n",
      "60000/60000 [==============================] - 1s 10us/step - loss: 0.1684 - acc: 0.9313 - val_loss: 0.3409 - val_acc: 0.8456\n",
      "\n",
      "Epoch 00049: val_loss did not improve from 0.32155\n",
      "Epoch 50/70\n",
      "60000/60000 [==============================] - 0s 6us/step - loss: 0.1668 - acc: 0.9318 - val_loss: 0.3415 - val_acc: 0.8465\n",
      "\n",
      "Epoch 00050: val_loss did not improve from 0.32155\n",
      "Epoch 51/70\n",
      "60000/60000 [==============================] - 0s 5us/step - loss: 0.1659 - acc: 0.9327 - val_loss: 0.3436 - val_acc: 0.8484\n",
      "\n",
      "Epoch 00051: val_loss did not improve from 0.32155\n",
      "Epoch 52/70\n",
      "60000/60000 [==============================] - 0s 5us/step - loss: 0.1648 - acc: 0.9326 - val_loss: 0.3471 - val_acc: 0.8479\n",
      "\n",
      "Epoch 00052: val_loss did not improve from 0.32155\n",
      "Epoch 53/70\n",
      "60000/60000 [==============================] - 0s 5us/step - loss: 0.1625 - acc: 0.9348 - val_loss: 0.3473 - val_acc: 0.8481\n",
      "\n",
      "Epoch 00053: val_loss did not improve from 0.32155\n",
      "Epoch 54/70\n",
      "60000/60000 [==============================] - 0s 5us/step - loss: 0.1620 - acc: 0.9343 - val_loss: 0.3497 - val_acc: 0.8474\n",
      "\n",
      "Epoch 00054: val_loss did not improve from 0.32155\n",
      "Epoch 55/70\n",
      "60000/60000 [==============================] - 0s 5us/step - loss: 0.1611 - acc: 0.9343 - val_loss: 0.3466 - val_acc: 0.8467\n",
      "\n",
      "Epoch 00055: val_loss did not improve from 0.32155\n",
      "Epoch 56/70\n",
      "60000/60000 [==============================] - 0s 5us/step - loss: 0.1601 - acc: 0.9346 - val_loss: 0.3517 - val_acc: 0.8483\n",
      "\n",
      "Epoch 00056: val_loss did not improve from 0.32155\n",
      "Epoch 57/70\n",
      "60000/60000 [==============================] - 0s 5us/step - loss: 0.1589 - acc: 0.9355 - val_loss: 0.3504 - val_acc: 0.8481\n",
      "\n",
      "Epoch 00057: val_loss did not improve from 0.32155\n",
      "Epoch 58/70\n",
      "60000/60000 [==============================] - 0s 5us/step - loss: 0.1582 - acc: 0.9362 - val_loss: 0.3513 - val_acc: 0.8460\n",
      "\n",
      "Epoch 00058: val_loss did not improve from 0.32155\n",
      "Epoch 59/70\n",
      "60000/60000 [==============================] - 0s 6us/step - loss: 0.1569 - acc: 0.9373 - val_loss: 0.3476 - val_acc: 0.8484\n",
      "\n",
      "Epoch 00059: val_loss did not improve from 0.32155\n",
      "Epoch 60/70\n",
      "60000/60000 [==============================] - 0s 5us/step - loss: 0.1562 - acc: 0.9371 - val_loss: 0.3557 - val_acc: 0.8495\n",
      "\n",
      "Epoch 00060: val_loss did not improve from 0.32155\n",
      "Epoch 61/70\n",
      "60000/60000 [==============================] - 0s 5us/step - loss: 0.1545 - acc: 0.9372 - val_loss: 0.3541 - val_acc: 0.8475\n",
      "\n",
      "Epoch 00061: val_loss did not improve from 0.32155\n",
      "Epoch 62/70\n",
      "60000/60000 [==============================] - 0s 5us/step - loss: 0.1533 - acc: 0.9388 - val_loss: 0.3533 - val_acc: 0.8470\n",
      "\n",
      "Epoch 00062: val_loss did not improve from 0.32155\n",
      "Epoch 63/70\n",
      "60000/60000 [==============================] - 0s 5us/step - loss: 0.1527 - acc: 0.9390 - val_loss: 0.3626 - val_acc: 0.8499\n",
      "\n",
      "Epoch 00063: val_loss did not improve from 0.32155\n",
      "Epoch 64/70\n",
      "60000/60000 [==============================] - 0s 5us/step - loss: 0.1520 - acc: 0.9388 - val_loss: 0.3554 - val_acc: 0.8487\n",
      "\n",
      "Epoch 00064: val_loss did not improve from 0.32155\n",
      "Epoch 65/70\n",
      "60000/60000 [==============================] - 0s 5us/step - loss: 0.1513 - acc: 0.9394 - val_loss: 0.3568 - val_acc: 0.8482\n",
      "\n",
      "Epoch 00065: val_loss did not improve from 0.32155\n",
      "Epoch 66/70\n",
      "60000/60000 [==============================] - 0s 6us/step - loss: 0.1499 - acc: 0.9400 - val_loss: 0.3584 - val_acc: 0.8472\n",
      "\n",
      "Epoch 00066: val_loss did not improve from 0.32155\n",
      "Epoch 67/70\n",
      "60000/60000 [==============================] - 0s 6us/step - loss: 0.1489 - acc: 0.9404 - val_loss: 0.3597 - val_acc: 0.8482\n",
      "\n",
      "Epoch 00067: val_loss did not improve from 0.32155\n",
      "Epoch 68/70\n",
      "60000/60000 [==============================] - 0s 6us/step - loss: 0.1486 - acc: 0.9403 - val_loss: 0.3611 - val_acc: 0.8486\n",
      "\n",
      "Epoch 00068: val_loss did not improve from 0.32155\n",
      "Epoch 69/70\n",
      "60000/60000 [==============================] - 0s 5us/step - loss: 0.1477 - acc: 0.9405 - val_loss: 0.3638 - val_acc: 0.8489\n",
      "\n",
      "Epoch 00069: val_loss did not improve from 0.32155\n",
      "Epoch 70/70\n",
      "60000/60000 [==============================] - 0s 5us/step - loss: 0.1467 - acc: 0.9408 - val_loss: 0.3639 - val_acc: 0.8487\n",
      "\n",
      "Epoch 00070: val_loss did not improve from 0.32155\n"
     ]
    }
   ],
   "source": [
    "checkpoint_path = \"checkpoints/findOptimalBin\"\n",
    "\n",
    "# Create checkpoint callback\n",
    "cp_callback = tf.keras.callbacks.ModelCheckpoint(checkpoint_path, \n",
    "                                                 save_weights_only=True,\n",
    "                                                 verbose=1, save_best_only=True)\n",
    "\n",
    "\n",
    "model = keras.Sequential([\n",
    "    #keras.layers.Flatten(input_shape=(28, 28)),\n",
    "    keras.layers.Flatten(input_shape=(10, 10)),\n",
    "    keras.layers.Dense(128, activation=tf.nn.relu),\n",
    "    #keras.layers.Dense(10, activation=tf.nn.softmax)\n",
    "    keras.layers.Dense(2, activation=tf.nn.softmax)\n",
    "])\n",
    "model.compile(optimizer=keras.optimizers.Adam(), \n",
    "              loss='sparse_categorical_crossentropy',\n",
    "              metrics=['accuracy'])\n",
    "history=model.fit(train_images, train_labels, epochs=70, batch_size=512, validation_data=(val_images, val_labels), callbacks = [cp_callback])\n",
    "\n",
    "history_dict = history.history"
   ]
  },
  {
   "cell_type": "code",
   "execution_count": 42,
   "metadata": {
    "scrolled": true
   },
   "outputs": [
    {
     "data": {
      "image/png": "[encoded data removed]",
      "text/plain": [
       "<Figure size 432x288 with 1 Axes>"
      ]
     },
     "metadata": {},
     "output_type": "display_data"
    }
   ],
   "source": [
    "import matplotlib.pyplot as plt\n",
    "\n",
    "acc = history.history['acc']\n",
    "val_acc = history.history['val_acc']\n",
    "loss = history.history['loss']\n",
    "val_loss = history.history['val_loss']\n",
    "\n",
    "epochs = range(1, len(acc) + 1)\n",
    "\n",
    "plt.plot(epochs, loss, 'bo-', mfc='None', label='Training loss')\n",
    "plt.plot(epochs, val_loss, 'ro-', mfc='None', label='Validation loss')\n",
    "plt.title('Training and validation loss')\n",
    "plt.xlabel('Epochs')\n",
    "plt.ylabel('Loss')\n",
    "plt.legend()\n",
    "\n",
    "plt.show()"
   ]
  },
  {
   "cell_type": "code",
   "execution_count": 43,
   "metadata": {},
   "outputs": [
    {
     "data": {
      "image/png": "[encoded data removed]",
      "text/plain": [
       "<Figure size 432x288 with 1 Axes>"
      ]
     },
     "metadata": {},
     "output_type": "display_data"
    }
   ],
   "source": [
    "import matplotlib.pyplot as plt\n",
    "\n",
    "acc = history.history['acc']\n",
    "val_acc = history.history['val_acc']\n",
    "loss = history.history['loss']\n",
    "val_loss = history.history['val_loss']\n",
    "\n",
    "epochs = range(1, len(acc) + 1)\n",
    "\n",
    "plt.plot(epochs, loss, 'bo-', mfc='White', label='Training loss')\n",
    "plt.plot(epochs, val_loss, 'ro-', mfc='White', label='Validation loss')\n",
    "plt.title('Training and validation loss')\n",
    "plt.xlabel('Epochs')\n",
    "plt.ylabel('Loss')\n",
    "plt.legend()\n",
    "\n",
    "plt.savefig('figs/Loss2.svg')"
   ]
  },
  {
   "cell_type": "code",
   "execution_count": 44,
   "metadata": {},
   "outputs": [
    {
     "data": {
      "image/png": "[encoded data removed]",
      "text/plain": [
       "<Figure size 432x288 with 1 Axes>"
      ]
     },
     "metadata": {},
     "output_type": "display_data"
    }
   ],
   "source": [
    "acc_values = history_dict['acc']\n",
    "val_acc_values = history_dict['val_acc']\n",
    "\n",
    "plt.plot(epochs, acc, 'bo-', mfc='None', label='Training acc')\n",
    "plt.plot(epochs, val_acc, 'ro-', mfc='None', label='Validation acc')\n",
    "plt.title('Training and validation accuracy')\n",
    "plt.xlabel('Epochs')\n",
    "plt.ylabel('Accuracy')\n",
    "plt.legend()\n",
    "\n",
    "plt.show()"
   ]
  },
  {
   "cell_type": "code",
   "execution_count": 45,
   "metadata": {},
   "outputs": [
    {
     "data": {
      "image/png": "[encoded data removed]",
      "text/plain": [
       "<Figure size 432x288 with 1 Axes>"
      ]
     },
     "metadata": {},
     "output_type": "display_data"
    }
   ],
   "source": [
    "acc_values = history_dict['acc']\n",
    "val_acc_values = history_dict['val_acc']\n",
    "\n",
    "plt.plot(epochs, acc, 'bo-', mfc='White', label='Training acc')\n",
    "plt.plot(epochs, val_acc, 'ro-', mfc='White', label='Validation acc')\n",
    "plt.title('Training and validation accuracy')\n",
    "plt.xlabel('Epochs')\n",
    "plt.ylabel('Accuracy')\n",
    "plt.legend()\n",
    "\n",
    "plt.savefig('figs/Acc2.svg')"
   ]
  },
  {
   "cell_type": "code",
   "execution_count": 46,
   "metadata": {},
   "outputs": [
    {
     "data": {
      "text/plain": [
       "array([0.36387122, 0.8487    ])"
      ]
     },
     "execution_count": 46,
     "metadata": {},
     "output_type": "execute_result"
    }
   ],
   "source": [
    "np.array([history_dict['val_loss'], history_dict['val_acc']])[:,-1]"
   ]
  },
  {
   "cell_type": "code",
   "execution_count": 47,
   "metadata": {},
   "outputs": [
    {
     "name": "stdout",
     "output_type": "stream",
     "text": [
      "10000/10000 [==============================] - 0s 15us/step\n",
      "[0.36387123053073883, 0.8487]\n",
      "10000/10000 [==============================] - 0s 12us/step\n",
      "[0.35297827064991, 0.8496]\n"
     ]
    }
   ],
   "source": [
    "print(model.evaluate(val_images, val_labels))\n",
    "print(model.evaluate(test_images, test_labels))"
   ]
  },
  {
   "cell_type": "code",
   "execution_count": 49,
   "metadata": {},
   "outputs": [
    {
     "data": {
      "text/plain": [
       "array([0.32154606, 0.8465    ])"
      ]
     },
     "execution_count": 49,
     "metadata": {},
     "output_type": "execute_result"
    }
   ],
   "source": [
    "np.array([history_dict['val_loss'], history_dict['val_acc']])[:,np.argmin(history_dict['val_loss'])]"
   ]
  },
  {
   "cell_type": "code",
   "execution_count": 48,
   "metadata": {},
   "outputs": [
    {
     "name": "stdout",
     "output_type": "stream",
     "text": [
      "10000/10000 [==============================] - 0s 11us/step\n",
      "[0.32154605050086976, 0.8465]\n",
      "10000/10000 [==============================] - 0s 11us/step\n",
      "[0.31760020632743835, 0.8492]\n"
     ]
    }
   ],
   "source": [
    "model.load_weights('checkpoints/findOptimalBin')\n",
    "print(model.evaluate(val_images, val_labels))\n",
    "print(model.evaluate(test_images, test_labels))"
   ]
  },
  {
   "cell_type": "code",
   "execution_count": 50,
   "metadata": {},
   "outputs": [],
   "source": [
    "#model.save_weights('./checkpoints/overfitting')\n"
   ]
  },
  {
   "cell_type": "code",
   "execution_count": 51,
   "metadata": {},
   "outputs": [],
   "source": [
    "#model.load_weights('./checkpoints/overfitting')\n"
   ]
  },
  {
   "cell_type": "code",
   "execution_count": 52,
   "metadata": {
    "scrolled": true
   },
   "outputs": [
    {
     "name": "stdout",
     "output_type": "stream",
     "text": [
      "10000/10000 [==============================] - 0s 17us/step\n",
      "Test accuracy: 0.8492\n"
     ]
    }
   ],
   "source": [
    "test_loss, test_acc = model.evaluate(test_images, test_labels)\n",
    "\n",
    "print('Test accuracy:', test_acc)"
   ]
  },
  {
   "cell_type": "code",
   "execution_count": 53,
   "metadata": {},
   "outputs": [],
   "source": [
    "predictions = model.predict(test_images)\n"
   ]
  },
  {
   "cell_type": "code",
   "execution_count": 66,
   "metadata": {},
   "outputs": [
    {
     "data": {
      "text/plain": [
       "tensorflow.python.keras.engine.sequential.Sequential"
      ]
     },
     "execution_count": 66,
     "metadata": {},
     "output_type": "execute_result"
    }
   ],
   "source": [
    "type(model)"
   ]
  },
  {
   "cell_type": "code",
   "execution_count": 195,
   "metadata": {},
   "outputs": [
    {
     "name": "stdout",
     "output_type": "stream",
     "text": [
      "[[2439  908]\n",
      " [ 600 6053]]\n"
     ]
    }
   ],
   "source": [
    "confusion_matrix=keras.backend.get_value(tf.confusion_matrix(~test_labels.astype(bool), ~np.argmax(predictions, 1).astype(bool)))\n",
    "print(confusion_matrix)"
   ]
  },
  {
   "cell_type": "code",
   "execution_count": 196,
   "metadata": {},
   "outputs": [
    {
     "name": "stdout",
     "output_type": "stream",
     "text": [
      "[[0.72871228 0.27128772]\n",
      " [0.09018488 0.90981512]]\n"
     ]
    }
   ],
   "source": [
    "prior_prob=np.array([i/np.sum(i) for i in confusion_matrix])\n",
    "print(prior_prob)"
   ]
  },
  {
   "cell_type": "code",
   "execution_count": 202,
   "metadata": {},
   "outputs": [
    {
     "name": "stdout",
     "output_type": "stream",
     "text": [
      "0.909815120998046\n",
      "0.27128772034657905\n"
     ]
    }
   ],
   "source": [
    "early_term=prior_prob[1,1]\n",
    "print(early_term)\n",
    "false_term=prior_prob[0,1]\n",
    "print(false_term)"
   ]
  },
  {
   "cell_type": "code",
   "execution_count": 204,
   "metadata": {},
   "outputs": [
    {
     "name": "stdout",
     "output_type": "stream",
     "text": [
      "[[0.80256663 0.13044103]\n",
      " [0.19743337 0.86955897]]\n"
     ]
    }
   ],
   "source": [
    "posterior_prob=np.matrix(np.squeeze([i/np.sum(i) for i in np.matrix(confusion_matrix).T])).T\n",
    "print(posterior_prob)"
   ]
  },
  {
   "cell_type": "code",
   "execution_count": 205,
   "metadata": {},
   "outputs": [
    {
     "name": "stdout",
     "output_type": "stream",
     "text": [
      "0.8492\n"
     ]
    }
   ],
   "source": [
    "accuracy=(confusion_matrix[0,0]+confusion_matrix[1,1])/np.sum(confusion_matrix)\n",
    "print(accuracy)"
   ]
  },
  {
   "cell_type": "code",
   "execution_count": 206,
   "metadata": {},
   "outputs": [
    {
     "name": "stdout",
     "output_type": "stream",
     "text": [
      "tf auc: [0.9261321, 0.9261321]\n"
     ]
    }
   ],
   "source": [
    "auc, update_op=tf.metrics.auc(test_labels, predictions[:,1])\n",
    "with tf.Session() as sess:\n",
    "    sess.run(tf.local_variables_initializer())\n",
    "    print(\"tf auc: {}\".format(sess.run([auc, update_op])))"
   ]
  },
  {
   "cell_type": "code",
   "execution_count": 207,
   "metadata": {},
   "outputs": [
    {
     "name": "stdout",
     "output_type": "stream",
     "text": [
      "sklearn auc: 0.9261284707447698\n"
     ]
    }
   ],
   "source": [
    "#https://github.com/tensorflow/tensorflow/issues/14834\n",
    "from sklearn.metrics import roc_auc_score\n",
    "print(\"sklearn auc: {}\".format(roc_auc_score(test_labels, predictions[:,1])))"
   ]
  },
  {
   "cell_type": "code",
   "execution_count": 208,
   "metadata": {},
   "outputs": [],
   "source": [
    "fpr, tpr, threshold=sklearn.metrics.roc_curve(test_labels, predictions[:,1])"
   ]
  },
  {
   "cell_type": "code",
   "execution_count": 209,
   "metadata": {
    "scrolled": true
   },
   "outputs": [
    {
     "data": {
      "image/png": "[encoded data removed]",
      "text/plain": [
       "<Figure size 432x288 with 1 Axes>"
      ]
     },
     "metadata": {},
     "output_type": "display_data"
    }
   ],
   "source": [
    "fig, ax=plt.subplots()\n",
    "ax.plot(fpr, tpr)\n",
    "ax.xaxis.label.set_text(\"False positive rate\")\n",
    "ax.set_ylabel(\"True positive rate\")\n",
    "\n",
    "plt.show()"
   ]
  },
  {
   "cell_type": "code",
   "execution_count": 225,
   "metadata": {},
   "outputs": [
    {
     "data": {
      "text/plain": [
       "0.4610098595757395"
      ]
     },
     "execution_count": 225,
     "metadata": {},
     "output_type": "execute_result"
    }
   ],
   "source": [
    "def find_nearest(array, value):\n",
    "    array = np.asarray(array)\n",
    "    idx = (np.abs(array - value)).argmin()\n",
    "    return idx\n",
    "tpr[find_nearest(fpr,0.01)]"
   ]
  },
  {
   "cell_type": "code",
   "execution_count": 54,
   "metadata": {},
   "outputs": [],
   "source": [
    "def plot_image(i, predictions_array, true_label, img):\n",
    "  predictions_array, true_label, img = predictions_array[i], true_label[i], img[i]\n",
    "  plt.grid(False)\n",
    "  plt.xticks([])\n",
    "  plt.yticks([])\n",
    "  \n",
    "  plt.imshow(img, cmap=plt.cm.binary)\n",
    "\n",
    "  predicted_label = np.argmax(predictions_array)\n",
    "  if predicted_label == true_label:\n",
    "    color = 'blue'\n",
    "  else:\n",
    "    color = 'red'\n",
    "  \n",
    "  plt.xlabel(\"{} {:2.0f}% ({})\".format(class_names[predicted_label],\n",
    "                                100*np.max(predictions_array),\n",
    "                                class_names[true_label]),\n",
    "                                color=color)\n",
    "\n",
    "def plot_value_array(i, predictions_array, true_label):\n",
    "  predictions_array, true_label = predictions_array[i], true_label[i]\n",
    "  plt.grid(False)\n",
    "  plt.xticks([])\n",
    "  plt.yticks([])\n",
    "  #thisplot = plt.bar(range(10), predictions_array, color=\"#777777\")\n",
    "  thisplot = plt.bar(range(2), predictions_array, color=\"#777777\")\n",
    "  plt.ylim([0, 1]) \n",
    "  predicted_label = np.argmax(predictions_array)\n",
    " \n",
    "  thisplot[predicted_label].set_color('red')\n",
    "  thisplot[true_label].set_color('blue')\n"
   ]
  },
  {
   "cell_type": "code",
   "execution_count": 55,
   "metadata": {},
   "outputs": [
    {
     "data": {
      "image/png": "[encoded data removed]",
      "text/plain": [
       "<Figure size 432x216 with 2 Axes>"
      ]
     },
     "metadata": {},
     "output_type": "display_data"
    }
   ],
   "source": [
    "i = 0\n",
    "plt.figure(figsize=(6,3))\n",
    "plt.subplot(1,2,1)\n",
    "plot_image(i, predictions, test_labels, test_images)\n",
    "plt.subplot(1,2,2)\n",
    "plot_value_array(i, predictions,  test_labels)\n"
   ]
  },
  {
   "cell_type": "code",
   "execution_count": 56,
   "metadata": {
    "scrolled": false
   },
   "outputs": [
    {
     "data": {
      "image/png": "[encoded data removed]",
      "text/plain": [
       "<Figure size 864x720 with 30 Axes>"
      ]
     },
     "metadata": {},
     "output_type": "display_data"
    }
   ],
   "source": [
    "\n",
    "\n",
    "# Plot the first X test images, their predicted label, and the true label\n",
    "# Color correct predictions in blue, incorrect predictions in red\n",
    "num_rows = 5\n",
    "num_cols = 3\n",
    "num_images = num_rows*num_cols\n",
    "plt.figure(figsize=(2*2*num_cols, 2*num_rows))\n",
    "for i in range(num_images):\n",
    "  plt.subplot(num_rows, 2*num_cols, 2*i+1)\n",
    "  plot_image(i, predictions, test_labels, test_images)\n",
    "  plt.subplot(num_rows, 2*num_cols, 2*i+2)\n",
    "  plot_value_array(i, predictions, test_labels)\n",
    "#plt.savefig('figs/15cases.svg')"
   ]
  },
  {
   "cell_type": "code",
   "execution_count": 57,
   "metadata": {},
   "outputs": [
    {
     "name": "stdout",
     "output_type": "stream",
     "text": [
      "(10, 10)\n"
     ]
    }
   ],
   "source": [
    "# Grab an image from the test dataset\n",
    "img = test_images[0]\n",
    "\n",
    "print(img.shape)"
   ]
  },
  {
   "cell_type": "code",
   "execution_count": 58,
   "metadata": {},
   "outputs": [
    {
     "name": "stdout",
     "output_type": "stream",
     "text": [
      "[[0.95712674 0.04287333]]\n"
     ]
    }
   ],
   "source": [
    "predictions_single = model.predict(img[None,...])\n",
    "\n",
    "print(predictions_single)"
   ]
  },
  {
   "cell_type": "code",
   "execution_count": 59,
   "metadata": {},
   "outputs": [
    {
     "data": {
      "text/plain": [
       "array([1., 0.], dtype=float32)"
      ]
     },
     "execution_count": 59,
     "metadata": {},
     "output_type": "execute_result"
    }
   ],
   "source": [
    "one_hot=np.zeros_like(predictions_single)\n",
    "one_hot[0,np.argmax(predictions_single)]=1\n",
    "np.squeeze(one_hot)"
   ]
  },
  {
   "cell_type": "code",
   "execution_count": 60,
   "metadata": {},
   "outputs": [
    {
     "data": {
      "image/png": "[encoded data removed]",
      "text/plain": [
       "<Figure size 432x288 with 1 Axes>"
      ]
     },
     "metadata": {},
     "output_type": "display_data"
    }
   ],
   "source": [
    "\n",
    "\n",
    "plot_value_array(0, predictions_single, test_labels)\n",
    "#_ = plt.xticks(range(10), class_names, rotation=45)\n",
    "_ = plt.xticks(range(2), class_names, rotation=45)"
   ]
  },
  {
   "cell_type": "code",
   "execution_count": 61,
   "metadata": {},
   "outputs": [
    {
     "name": "stdout",
     "output_type": "stream",
     "text": [
      "Help on package tensorflow.keras.datasets in tensorflow.keras:\n",
      "\n",
      "NAME\n",
      "    tensorflow.keras.datasets - Keras built-in datasets.\n",
      "\n",
      "PACKAGE CONTENTS\n",
      "    boston_housing (package)\n",
      "    cifar10 (package)\n",
      "    cifar100 (package)\n",
      "    fashion_mnist (package)\n",
      "    imdb (package)\n",
      "    mnist (package)\n",
      "    reuters (package)\n",
      "\n",
      "FILE\n",
      "    d:\\programdata\\anaconda3\\lib\\site-packages\\tensorflow\\keras\\datasets\\__init__.py\n",
      "\n",
      "\n"
     ]
    }
   ],
   "source": [
    "help(keras.datasets)"
   ]
  }
 ],
 "metadata": {
  "kernelspec": {
   "display_name": "Python 3",
   "language": "python",
   "name": "python3"
  },
  "language_info": {
   "codemirror_mode": {
    "name": "ipython",
    "version": 3
   },
   "file_extension": ".py",
   "mimetype": "text/x-python",
   "name": "python",
   "nbconvert_exporter": "python",
   "pygments_lexer": "ipython3",
   "version": "3.6.5"
  }
 },
 "nbformat": 4,
 "nbformat_minor": 2
}
